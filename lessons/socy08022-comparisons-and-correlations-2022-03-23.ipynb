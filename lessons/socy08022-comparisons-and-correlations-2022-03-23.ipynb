{
 "cells": [
  {
   "cell_type": "markdown",
   "id": "otherwise-cache",
   "metadata": {},
   "source": [
    "<p align=\"right\"><i>Foundations of Quantitative Research Methods - 2021/22 academic session</i></p>"
   ]
  },
  {
   "cell_type": "markdown",
   "id": "dynamic-conjunction",
   "metadata": {},
   "source": [
    "# Comparisons and Correlations"
   ]
  },
  {
   "cell_type": "markdown",
   "id": "exclusive-methodology",
   "metadata": {},
   "source": [
    "Welcome to the second part of the module *Foundations of Quantitative Research Methods*. We are going to focus on the core ways we can analyse and interpret quantitative data. We are going to use a real, large-scale social survey called the **British Social Attitudes Survey, 2019**. In particulare we're going to focus on a set of survey questions relating to poverty and welfare. "
   ]
  },
  {
   "cell_type": "markdown",
   "id": "scenic-silly",
   "metadata": {},
   "source": [
    "### Aims\n",
    "\n",
    "This lesson - **Comparisons and Correlations** - has two aims:\n",
    "1. Demonstrate how to analyse categorical and numeric variables two or more at a time.\n",
    "2. Cultivate your computational skills through the use of the statistical programming langauge *R*. For example, in this notebook there are a number of opportunities for you to amend or write R syntax (code)."
   ]
  },
  {
   "cell_type": "markdown",
   "id": "judicial-prediction",
   "metadata": {},
   "source": [
    "### Lesson details\n",
    "\n",
    "* **Level**: Introductory, for individuals with some knowledge of univariate data analysis techniques (e.g., measures of dispersion and central tendency).\n",
    "* **Duration**: 45-60 minutes.\n",
    "* **Pre-requisites**: None.\n",
    "* **Programming language**: R.\n",
    "* **Learning outcomes**:\n",
    "\t1. Understand how to use R for conducting data analysis.\n",
    "\t2. Understand how to select and apply common data analysis techniques for categorical and numeric variables."
   ]
  },
  {
   "cell_type": "markdown",
   "id": "interested-radar",
   "metadata": {},
   "source": [
    "### Interaction\n",
    "\n",
    "**You only need to execute the code that is contained in sections which are marked by `In []`.**\n",
    "\n",
    "To execute a cell, click or double-click the cell and press the `Run` button on the top toolbar (you can also use the keyboard shortcut `Shift + Enter`).\n",
    "\n",
    "Try it for yourself:"
   ]
  },
  {
   "cell_type": "code",
   "execution_count": null,
   "id": "outstanding-bulgaria",
   "metadata": {},
   "outputs": [],
   "source": [
    "(10 + 5) * 2"
   ]
  },
  {
   "cell_type": "markdown",
   "id": "democratic-office",
   "metadata": {},
   "source": [
    "## Making comparisons"
   ]
  },
  {
   "cell_type": "markdown",
   "id": "respected-comedy",
   "metadata": {},
   "source": [
    "In the [**Statistical Summaries** lesson](https://github.com/DiarmuidM/foundations-of-quantitative-research-methods/blob/main/lessons/socy08022-statistical-summaries-2022-03-16.ipynb), we learned how to produce statistical summaries of categorical and numeric variables. This is an important step in any quantitative data analysis as it provides a basic understanding of our key variables. However many of the more interesting social science research questions involve **making comparisons**:\n",
    "* [Is there a difference in the earnings of men and women?](https://doi.org/10.1177%2F0095399716636928)\n",
    "* [Are children living in the most deprived areas more likely to be obese than those living in the least deprived?](http://dx.doi.org/10.1136/archdischild-2014-307036)\n",
    "* [Does ethnicity affect trust in the police?](https://doi.org/10.1177%2F1098611104271105) "
   ]
  },
  {
   "cell_type": "markdown",
   "id": "modern-nursery",
   "metadata": {},
   "source": [
    "Thus in this lesson we will focus on making comparisons using two variables of interest. In particular we will compare the following types of variables:\n",
    "* **Categorical vs Categorical**\n",
    "* **Categorical vs Numeric**\n",
    "* **Numeric vs Numeric**"
   ]
  },
  {
   "cell_type": "markdown",
   "id": "honest-tackle",
   "metadata": {},
   "source": [
    "The process of comparing two variables is known as **bivariate data analysis**."
   ]
  },
  {
   "cell_type": "markdown",
   "id": "synthetic-amino",
   "metadata": {},
   "source": [
    "Although the specific bivariate analysis techniques differ depending on which types of variables we are comparing, there is a common process:\n",
    "1. Produce a table or graph of the joint distribution of the two variables.\n",
    "2. Calculate a statistic that summarises key features of the joint distribution.\n",
    "3. Make a statement about whether the pattern you observe likely to generalise or not (that is, does the pattern only exist in your sample? Or are you likely to find it also in the population from which your sample came?).\n",
    "\n",
    "We will focus on the first two steps in the process in this lesson. In Week 12 we will address the third step."
   ]
  },
  {
   "cell_type": "markdown",
   "id": "actual-grill",
   "metadata": {},
   "source": [
    "### Terminology\n",
    "\n",
    "Let's refresh our memory of key terms when conducting quantitative data analysis:\n",
    "* **Case** - the entity we are analysing e.g., people, countries, companies, animals, events.\n",
    "* **Variable** - a characteristic that can vary in value among cases in a sample or population. Usually represented as a column in a dataset.\n",
    "* **Observation** - a set of measurements of the variables for a case. Usually represented as a row in a dataset.\n",
    "* **Respondent** - the case who responds to the survey - for obvious reasons, almost always a person.\n",
    "* **Dependent variable (Y)** - the characteristic we are trying to describe / explain.\n",
    "* **Independent variable (X)** - the characteristic we think helps describe or explain the dependent variable.\n",
    "\n",
    "The designation of one variable as the dependent and the other as the independent is your decision and does not affect the type of bivariate analysis you need. It simply provides a better link with a theory you think explains the relationship you observe."
   ]
  },
  {
   "cell_type": "markdown",
   "id": "endless-entertainment",
   "metadata": {},
   "source": [
    "### Correlation"
   ]
  },
  {
   "cell_type": "markdown",
   "id": "upper-favorite",
   "metadata": {},
   "source": [
    "The purpose of making comparisons is to reveal whether there is a correlation (association) between two variables. What do we mean by correlation? Simply that there is a relationship between two variables (Fogarty, 2019). For example, as the value of one variable increases, do we also observe a similar increase in a second variable?\n",
    "\n",
    "The relationship may be non-existent, weak, moderate or strong. It may be positive (both variables increase/decrease in value) or negative (e.g., one increases and the other decreases). Or if we are dealing with categorical variables, are you more likely to be in a category of the dependent variable based on being a member of a category of the independent variable (e.g., are you more likely to vote SNP if you are married)?"
   ]
  },
  {
   "cell_type": "markdown",
   "id": "public-salon",
   "metadata": {},
   "source": [
    "**Caveat**: it is important to remember that even though two variables may be associated, it does not mean there is a causal link between them. As is oft-stated: correlation does not equal causation."
   ]
  },
  {
   "cell_type": "markdown",
   "id": "funny-branch",
   "metadata": {},
   "source": [
    "![xkcd comic](https://imgs.xkcd.com/comics/correlation.png)"
   ]
  },
  {
   "cell_type": "markdown",
   "id": "rural-progress",
   "metadata": {},
   "source": [
    "## Doing data analysis"
   ]
  },
  {
   "cell_type": "markdown",
   "id": "caroline-province",
   "metadata": {},
   "source": [
    "In this lesson we focus on analysing *two* variables at a time. In particular, we will examine whether:\n",
    "1. A respondent's sex is correlated with their attitude to income inequality in Britain (*Categorical vs Categorical* comparison).\n",
    "2. A respondent's age is correlated with their estimate of how many welfare claimants are engaging in fraud (*Categorical vs Numeric* comparison).\n",
    "3. A respondent's attitude to welfare is correlated with their estimate of how many welfare claimants are engaging in fraud (*Numeric vs Numeric* comparison)."
   ]
  },
  {
   "cell_type": "markdown",
   "id": "framed-privacy",
   "metadata": {},
   "source": [
    "### Importing data"
   ]
  },
  {
   "cell_type": "markdown",
   "id": "stone-qatar",
   "metadata": {},
   "source": [
    "The first step is to import the *British Social Attidues* data for analysis."
   ]
  },
  {
   "cell_type": "code",
   "execution_count": null,
   "id": "agreed-future",
   "metadata": {},
   "outputs": [],
   "source": [
    "bsa2019 <- read.table(\"./data/bsa2019_poverty_open.tab\", header=TRUE, na=\"NA\", sep=\"\\t\")\n",
    "head(bsa2019) # view the first six observations"
   ]
  },
  {
   "cell_type": "code",
   "execution_count": null,
   "id": "greek-result",
   "metadata": {},
   "outputs": [],
   "source": [
    "names(bsa2019)"
   ]
  },
  {
   "cell_type": "markdown",
   "id": "legendary-tactics",
   "metadata": {},
   "source": [
    "### Categorical vs Categorical"
   ]
  },
  {
   "cell_type": "markdown",
   "id": "electrical-preparation",
   "metadata": {},
   "source": [
    "The two variables we need for our comparison are:\n",
    "* `RSex` is a binary measure of a respondent's sex. There are two categories: Male and Female. It is a type of nominal variable.\n",
    "*  `incdiffs` is a measure of how strongly respondent's agree or disagree about the level of income inequality in Britain: *Differences in income in GB are too large?* The responses are a set of categories ranging from \"Strongly agree\" to \"Strongly disagree\", therefore this is a categorical variable, specifically an ordinal variable."
   ]
  },
  {
   "cell_type": "markdown",
   "id": "finite-edward",
   "metadata": {},
   "source": [
    "#### Labelling values"
   ]
  },
  {
   "cell_type": "markdown",
   "id": "treated-klein",
   "metadata": {},
   "source": [
    "Revisit the first lesson if you want to understand why it is important to label the values of our categorical variables. For now we will just perform this task quickly."
   ]
  },
  {
   "cell_type": "code",
   "execution_count": null,
   "id": "instant-captain",
   "metadata": {},
   "outputs": [],
   "source": [
    "bsa2019$incdiffs <- factor(bsa2019$incdiffs, levels = c(1,2,3,4,5), labels = c(\"Strongly agree\", \"Agree\", \n",
    "                                                                               \"Neither agree nor disagree\", \"Disagree\", \"Strongly disagree\"))"
   ]
  },
  {
   "cell_type": "code",
   "execution_count": null,
   "id": "interior-price",
   "metadata": {},
   "outputs": [],
   "source": [
    "bsa2019$RSex <- factor(bsa2019$RSex, levels = c(1,2), labels = c(\"Male\", \"Female\"))"
   ]
  },
  {
   "cell_type": "code",
   "execution_count": null,
   "id": "smooth-trial",
   "metadata": {},
   "outputs": [],
   "source": [
    "bsa2019$RAgeCat <- factor(bsa2019$RAgeCat, levels = c(1,2,3,4,5,6,7), labels = c(\"18-24\", \"25-34\", \"35-44\", \"45-54\", \n",
    "                                                                                \"55-59\", \"60-64\", \"65+\"))"
   ]
  },
  {
   "cell_type": "markdown",
   "id": "thermal-valve",
   "metadata": {},
   "source": [
    "#### Separate summaries"
   ]
  },
  {
   "cell_type": "markdown",
   "id": "faced-dietary",
   "metadata": {},
   "source": [
    "We begin by displaying separate frequency tables for each variable:"
   ]
  },
  {
   "cell_type": "code",
   "execution_count": null,
   "id": "intelligent-supplement",
   "metadata": {},
   "outputs": [],
   "source": [
    "table(bsa2019$incdiffs)"
   ]
  },
  {
   "cell_type": "code",
   "execution_count": null,
   "id": "coastal-passenger",
   "metadata": {},
   "outputs": [],
   "source": [
    "table(bsa2019$RSex)"
   ]
  },
  {
   "cell_type": "markdown",
   "id": "otherwise-domestic",
   "metadata": {},
   "source": [
    "A slight majority of respondents are female, and the vast majority agree or strongly agree that income inequality is too large in Britain."
   ]
  },
  {
   "cell_type": "markdown",
   "id": "disabled-photography",
   "metadata": {},
   "source": [
    "Now let's make things more interesting by asking: is there a correlation between somebody's sex and whether they think income inequality is too large. More precisely, we are designating sex as the **independent variable** and attitude to income inequality as the **dependent variable**.\n",
    "\n",
    "A little thinking should clarify why this designation makes sense: we can imagine ways in which a person's sex informs their political and social attitudes; it is impossible for a person's attitudes to determine / explain / cause their sex."
   ]
  },
  {
   "cell_type": "markdown",
   "id": "pregnant-wells",
   "metadata": {},
   "source": [
    "#### Joint distribution"
   ]
  },
  {
   "cell_type": "markdown",
   "id": "rolled-acoustic",
   "metadata": {},
   "source": [
    "We can make our comparison by producing a frequency table of the two variables simultaneously, known as a **crosstabulation** or **contingency table**:"
   ]
  },
  {
   "cell_type": "code",
   "execution_count": null,
   "id": "spare-google",
   "metadata": {},
   "outputs": [],
   "source": [
    "crotab <- round(addmargins(prop.table(table(bsa2019$incdiffs, bsa2019$RSex), 2) * 100, 2, FUN = mean), 0) # build table\n",
    "crotab # display table"
   ]
  },
  {
   "cell_type": "markdown",
   "id": "humanitarian-leisure",
   "metadata": {},
   "source": [
    "The table displays the percentage of males and females in each category of the income inequality variable. For each row in the table, we can compare the percentage of males and females. For example, a slightly higher percentage of females compared to males strongly agree that income inequality is too large in Britain. \n",
    "\n",
    "The *mean* column shows what percentage of respondents overall are in each category of the income inequality variable. That is, what percentage of males AND females strongly agree etc.\n",
    "\n",
    "While we observe minor differences in some rows, the overall pattern is clear: there are few differences in the attitudes of males and females with respect to income inequality."
   ]
  },
  {
   "cell_type": "markdown",
   "id": "broken-coupon",
   "metadata": {},
   "source": [
    "#### Measures of association"
   ]
  },
  {
   "cell_type": "markdown",
   "id": "spare-closing",
   "metadata": {},
   "source": [
    "Our visual inspection of the joint distribution of the two variables - `RSex` and `incdiffs` - suggests that there is no correlation between them. That is, knowing a respondent's sex does not predict their attitude to income inequality.\n",
    "\n",
    "However it would be nice to quantify the apparent lack of a correlation. We can do this by selecting an appropriate **measure of association**."
   ]
  },
  {
   "cell_type": "markdown",
   "id": "voluntary-motor",
   "metadata": {},
   "source": [
    "Recall that we have two categorical variables, specifically one nominal (`RSex`) and one ordinal (`incdiffs`). In this instance the most appropriate measure of association is called *Cramer's V*. This measure ranges between 0 (no correlation) and 1 (perfect correlation) and summarises the strength of the association between two varaibles.\n",
    "\n",
    "Let's calculate it for our two variables of interest:"
   ]
  },
  {
   "cell_type": "code",
   "execution_count": null,
   "id": "developmental-yahoo",
   "metadata": {},
   "outputs": [],
   "source": [
    "library(lsr) # import additional functions into R"
   ]
  },
  {
   "cell_type": "code",
   "execution_count": null,
   "id": "increasing-array",
   "metadata": {},
   "outputs": [],
   "source": [
    "round(cramersV(bsa2019$incdiffs, bsa2019$RSex), 2)"
   ]
  },
  {
   "cell_type": "markdown",
   "id": "informal-fundamentals",
   "metadata": {},
   "source": [
    "**QUESTION**: how would you describe the strength of the association between sex and attitude to income inequality?"
   ]
  },
  {
   "cell_type": "markdown",
   "id": "bacterial-solid",
   "metadata": {},
   "source": [
    "(Double-click here to enter your answer here)"
   ]
  },
  {
   "cell_type": "markdown",
   "id": "relative-central",
   "metadata": {},
   "source": [
    "### Categorical vs Numeric"
   ]
  },
  {
   "cell_type": "markdown",
   "id": "finnish-jordan",
   "metadata": {},
   "source": [
    "How do we approach bivariate analysis when we have one categorical and one numeric variable? The key task is to summarise the numeric variable for different categories of our categorical variable. That is, we want to see if measures of central tendency (e.g., mean, median) and dispersion (e.g., standard deviation, minimum, maximum) vary across categories of a chosen variable."
   ]
  },
  {
   "cell_type": "markdown",
   "id": "becoming-recovery",
   "metadata": {},
   "source": [
    "#### Separate summaries"
   ]
  },
  {
   "cell_type": "markdown",
   "id": "comprehensive-kidney",
   "metadata": {},
   "source": [
    "We are interested in whether a respondent's age (`RAgeCat`) is correlated with their estimate of how many welfare claimants are engaging in fraud (`NatFrEst`)."
   ]
  },
  {
   "cell_type": "code",
   "execution_count": null,
   "id": "important-gnome",
   "metadata": {},
   "outputs": [],
   "source": [
    "round(prop.table(ftable(bsa2019$RAgeCat)) * 100, 0)"
   ]
  },
  {
   "cell_type": "markdown",
   "id": "conventional-focus",
   "metadata": {},
   "source": [
    "31% of respondents to the survey were 65 years or older."
   ]
  },
  {
   "cell_type": "code",
   "execution_count": null,
   "id": "entitled-player",
   "metadata": {},
   "outputs": [],
   "source": [
    "bsa2019$NatFrEst[bsa2019$NatFrEst > 100] <- NA # set \"998\" and \"999\" as missing values"
   ]
  },
  {
   "cell_type": "code",
   "execution_count": null,
   "id": "charming-monkey",
   "metadata": {},
   "outputs": [],
   "source": [
    "summary(bsa2019$NatFrEst)"
   ]
  },
  {
   "cell_type": "code",
   "execution_count": null,
   "id": "starting-paste",
   "metadata": {},
   "outputs": [],
   "source": [
    "hist(bsa2019$NatFrEst, breaks = seq(0, 100, by=10))"
   ]
  },
  {
   "cell_type": "markdown",
   "id": "legislative-damage",
   "metadata": {},
   "source": [
    "#### Joint distribution"
   ]
  },
  {
   "cell_type": "markdown",
   "id": "uniform-ebony",
   "metadata": {},
   "source": [
    "We can use a **table of means** to see how the average of a numeric variable varies across categories of a categorical variable. Actually, this approach can be generalised to include lots of other summaries of numeric variables (e.g., standard deviation, minimum, maximum). Let's see an example by comparing whether average estimate of welfare fraud varies across categories of age:"
   ]
  },
  {
   "cell_type": "code",
   "execution_count": null,
   "id": "serious-conference",
   "metadata": {},
   "outputs": [],
   "source": [
    "aggregate(NatFrEst ~ RAgeCat, data = bsa2019, mean)"
   ]
  },
  {
   "cell_type": "code",
   "execution_count": null,
   "id": "distinguished-screening",
   "metadata": {},
   "outputs": [],
   "source": [
    "aggregate(NatFrEst ~ RAgeCat, data = bsa2019, median)"
   ]
  },
  {
   "cell_type": "markdown",
   "id": "interim-assignment",
   "metadata": {},
   "source": [
    "Using the mean and median as our summaries, we see that there isn't a clear age trend in estimates of welfare fraud."
   ]
  },
  {
   "cell_type": "markdown",
   "id": "varying-rolling",
   "metadata": {},
   "source": [
    "**TASK:** Display summary tables of the minimum and maximum values of `NatFrEst`."
   ]
  },
  {
   "cell_type": "code",
   "execution_count": null,
   "id": "adopted-wings",
   "metadata": {},
   "outputs": [],
   "source": [
    "# INSERT CODE HERE"
   ]
  },
  {
   "cell_type": "code",
   "execution_count": null,
   "id": "fifth-patrol",
   "metadata": {},
   "outputs": [],
   "source": [
    "# INSERT CODE HERE"
   ]
  },
  {
   "cell_type": "markdown",
   "id": "respiratory-citation",
   "metadata": {},
   "source": [
    "#### Measures of association"
   ]
  },
  {
   "cell_type": "markdown",
   "id": "electric-flexibility",
   "metadata": {},
   "source": [
    "The appropriate measure of association when you have one categorical and one numeric variable is:\n",
    "* *Eta squared*\n",
    "\n",
    "This tells us the strength of the association but not the direction (we need to infer this from the summary tables above). *Eta squared* coefficient ranges from 0 to 1, with higher values representing stronger associations."
   ]
  },
  {
   "cell_type": "code",
   "execution_count": null,
   "id": "numeric-upgrade",
   "metadata": {},
   "outputs": [],
   "source": [
    "library(lsr) # import the package containing the `etaSquared()` command"
   ]
  },
  {
   "cell_type": "code",
   "execution_count": null,
   "id": "scientific-warning",
   "metadata": {},
   "outputs": [],
   "source": [
    "model <- aov(NatFrEst ~ RAgeCat, data = bsa2019)\n",
    "etaSquared(model)"
   ]
  },
  {
   "cell_type": "markdown",
   "id": "applicable-inclusion",
   "metadata": {},
   "source": [
    "The extremely low value for the *Eta squared* coefficient implies that there is a non-existent correlation between age and estimates of welfare fraud. This makes sense, as the variation in estimates across age groups is very small and really only noticeable when we compare the youngest and oldest age groups."
   ]
  },
  {
   "cell_type": "markdown",
   "id": "written-writing",
   "metadata": {},
   "source": [
    "### Numeric vs Numeric"
   ]
  },
  {
   "cell_type": "markdown",
   "id": "contrary-chinese",
   "metadata": {},
   "source": [
    "Finally, we consider correlations between two numeric variables."
   ]
  },
  {
   "cell_type": "markdown",
   "id": "higher-abraham",
   "metadata": {},
   "source": [
    "#### Separate summaries"
   ]
  },
  {
   "cell_type": "markdown",
   "id": "auburn-horizontal",
   "metadata": {},
   "source": [
    "We are interested in whether a respondent's attitude to welfare (`welfare2`) is correlated with their estimate of how many welfare claimants are engaging in fraud (`NatFrEst`)."
   ]
  },
  {
   "cell_type": "code",
   "execution_count": null,
   "id": "removed-necessity",
   "metadata": {},
   "outputs": [],
   "source": [
    "bsa2019$welfare2[bsa2019$welfare2 > 5 | bsa2019$welfare2 < 1] <- NA"
   ]
  },
  {
   "cell_type": "code",
   "execution_count": null,
   "id": "diagnostic-discretion",
   "metadata": {},
   "outputs": [],
   "source": [
    "summary(bsa2019$welfare2)"
   ]
  },
  {
   "cell_type": "code",
   "execution_count": null,
   "id": "protective-married",
   "metadata": {},
   "outputs": [],
   "source": [
    "summary(bsa2019$NatFrEst)"
   ]
  },
  {
   "cell_type": "markdown",
   "id": "judicial-hampton",
   "metadata": {},
   "source": [
    "#### Joint distribution"
   ]
  },
  {
   "cell_type": "markdown",
   "id": "advised-custom",
   "metadata": {},
   "source": [
    "It is difficult to use tables to examine the distributions of numeric variables: there are often too many values to display. For example, here is a frequency table of `NatFrEst`, showing how many times each value occurs:"
   ]
  },
  {
   "cell_type": "code",
   "execution_count": null,
   "id": "confused-income",
   "metadata": {},
   "outputs": [],
   "source": [
    "ftable(bsa2019$NatFrEst)"
   ]
  },
  {
   "cell_type": "markdown",
   "id": "desirable-efficiency",
   "metadata": {},
   "source": [
    "And that's just one variable. A better way of displaying the joint distribution of two numeric variables is to use a **scatterplot**:"
   ]
  },
  {
   "cell_type": "code",
   "execution_count": null,
   "id": "special-class",
   "metadata": {},
   "outputs": [],
   "source": [
    "plot(bsa2019$welfare2, bsa2019$NatFrEst) # X variable (axis) is listed first, Y variable (axis) second"
   ]
  },
  {
   "cell_type": "markdown",
   "id": "capable-wholesale",
   "metadata": {},
   "source": [
    "If I were to make a tentative interpretation, it would be that as somebody's attitude to welfare becomes more negative (that is, `welfare2` variable increases towards 5) their estimate of welfare fraud tends to be slightly higher. However it might be easier to interpret an appropriate measure of association."
   ]
  },
  {
   "cell_type": "markdown",
   "id": "hispanic-cross",
   "metadata": {},
   "source": [
    "#### Measure of association"
   ]
  },
  {
   "cell_type": "markdown",
   "id": "raised-twist",
   "metadata": {},
   "source": [
    "We will use the following measure of association:\n",
    "* *Pearson's correlation coefficient (r)*\n",
    "\n",
    "Similar to other measures of association, it tells us the strength and direction of the association between two variables. The coefficient ranges between -1 and 1, with negative values representing negative associations, and positive values positive associations. Values closer to -1 or 1 indicate stronger associations than those closer to 0."
   ]
  },
  {
   "cell_type": "code",
   "execution_count": null,
   "id": "impressive-bridal",
   "metadata": {},
   "outputs": [],
   "source": [
    "round(cor(bsa2019$welfare2, bsa2019$NatFrEst, use = \"complete.obs\"), 2)"
   ]
  },
  {
   "cell_type": "markdown",
   "id": "buried-guitar",
   "metadata": {},
   "source": [
    "Let's interpret the correlation coefficient:\n",
    "* The number is reasonably far from 0, therefore there is a moderate-to-strong correlation between these two variables.\n",
    "* The number is greater than 0, therefore there is a positive relationship between these two variables - as the value of one variable increases, the value of the other variable also tends to increase."
   ]
  },
  {
   "cell_type": "markdown",
   "id": "editorial-poetry",
   "metadata": {},
   "source": [
    "## Conclusion"
   ]
  },
  {
   "cell_type": "markdown",
   "id": "happy-starter",
   "metadata": {},
   "source": [
    "In this lesson we encountered a range of techniques for summarising more than one variable at a time, in particular focusing on whether two variables are related.\n",
    "\n",
    "In the next lesson we look at how we can produce statistics that help us make claims about the *generalisability* of our analyses."
   ]
  },
  {
   "cell_type": "markdown",
   "id": "dominican-canal",
   "metadata": {},
   "source": [
    "## Solutions to tasks"
   ]
  },
  {
   "cell_type": "markdown",
   "id": "collaborative-rogers",
   "metadata": {},
   "source": [
    "### Display summary tables of the minimum and maximum values of `NatFrEst`."
   ]
  },
  {
   "cell_type": "code",
   "execution_count": null,
   "id": "friendly-pricing",
   "metadata": {},
   "outputs": [],
   "source": [
    "aggregate(NatFrEst ~ RAgeCat, data = bsa2019, min)"
   ]
  },
  {
   "cell_type": "code",
   "execution_count": null,
   "id": "brazilian-pacific",
   "metadata": {},
   "outputs": [],
   "source": [
    "aggregate(NatFrEst ~ RAgeCat, data = bsa2019, max)"
   ]
  }
 ],
 "metadata": {
  "kernelspec": {
   "display_name": "R",
   "language": "R",
   "name": "ir"
  },
  "language_info": {
   "codemirror_mode": "r",
   "file_extension": ".r",
   "mimetype": "text/x-r-source",
   "name": "R",
   "pygments_lexer": "r",
   "version": "4.1.1"
  }
 },
 "nbformat": 4,
 "nbformat_minor": 5
}
