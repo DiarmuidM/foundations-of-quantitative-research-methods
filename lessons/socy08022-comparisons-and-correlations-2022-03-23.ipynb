{
 "cells": [
  {
   "cell_type": "markdown",
   "id": "otherwise-cache",
   "metadata": {},
   "source": [
    "<p align=\"right\"><i>Foundations of Quantitative Research Methods - 2021/22 academic session</i></p>"
   ]
  },
  {
   "cell_type": "markdown",
   "id": "dynamic-conjunction",
   "metadata": {},
   "source": [
    "# Comparisons and Correlations"
   ]
  },
  {
   "cell_type": "markdown",
   "id": "exclusive-methodology",
   "metadata": {},
   "source": [
    "Welcome to the second part of the module *Foundations of Quantitative Research Methods*. We are going to focus on the core ways we can analyse and interpret quantitative data. We are going to use a real, large-scale social survey called the **British Social Attitudes Survey, 2019**. In particulare we're going to focus on a set of survey questions relating to poverty and welfare. "
   ]
  },
  {
   "cell_type": "markdown",
   "id": "scenic-silly",
   "metadata": {},
   "source": [
    "### Aims\n",
    "\n",
    "This lesson - **Comparisons and Correlations** - has two aims:\n",
    "1. Demonstrate how to analyse categorical and numeric variables two or more at a time.\n",
    "2. Cultivate your computational skills through the use of the statistical programming langauge *R*. For example, in this notebook there are a number of opportunities for you to amend or write R syntax (code)."
   ]
  },
  {
   "cell_type": "markdown",
   "id": "judicial-prediction",
   "metadata": {},
   "source": [
    "### Lesson details\n",
    "\n",
    "* **Level**: Introductory, for individuals with some knowledge of univariate data analysis techniques (e.g., measures of dispersion and central tendency).\n",
    "* **Duration**: 45-60 minutes.\n",
    "* **Pre-requisites**: None.\n",
    "* **Programming language**: R.\n",
    "* **Learning outcomes**:\n",
    "\t1. Understand how to use R for conducting data analysis.\n",
    "\t2. Understand how to select and apply common data analysis techniques for categorical and numeric variables."
   ]
  },
  {
   "cell_type": "markdown",
   "id": "terminal-agenda",
   "metadata": {},
   "source": [
    "## Guide to using this resource\n",
    "\n",
    "This learning resource was built using <a href=\"https://jupyter.org/\" target=_blank>Jupyter Notebook</a>, an open-source software application that allows you to mix code, results and narrative in a single document. As <a href=\"https://jupyter4edu.github.io/jupyter-edu-book/\" target=_blank>Barba et al. (2019)</a> espouse:\n",
    "> In a world where every subject matter can have a data-supported treatment, where computational devices are omnipresent and pervasive, the union of natural language and computation creates compelling communication and learning opportunities.\n",
    "\n",
    "If you are familiar with Jupyter notebooks then skip ahead to the main content (*Analysing Data*). Otherwise, the following is a quick guide to navigating and interacting with the notebook."
   ]
  },
  {
   "cell_type": "markdown",
   "id": "interested-radar",
   "metadata": {},
   "source": [
    "### Interaction\n",
    "\n",
    "**You only need to execute the code that is contained in sections which are marked by `In []`.**\n",
    "\n",
    "To execute a cell, click or double-click the cell and press the `Run` button on the top toolbar (you can also use the keyboard shortcut `Shift + Enter`).\n",
    "\n",
    "Try it for yourself:"
   ]
  },
  {
   "cell_type": "code",
   "execution_count": null,
   "id": "dominican-hardware",
   "metadata": {},
   "outputs": [],
   "source": [
    "name <- readline(prompt=\"Enter name: \")\n",
    "print(paste(\"Hi\", name, \", enjoy learning more about R and exploring data!\"))"
   ]
  },
  {
   "cell_type": "markdown",
   "id": "through-storm",
   "metadata": {},
   "source": [
    "Notebooks are sequential, meaning code should be executed in order (top to bottom). For example, the following code won't work:"
   ]
  },
  {
   "cell_type": "code",
   "execution_count": null,
   "id": "outstanding-bulgaria",
   "metadata": {},
   "outputs": [],
   "source": [
    "x * 5"
   ]
  },
  {
   "cell_type": "markdown",
   "id": "handmade-madagascar",
   "metadata": {},
   "source": [
    "As the error message suggests, there is no object (variable) called `x`, therefore we cannot do any calculations with it. \n",
    "\n",
    "Let's try a sequential approach:"
   ]
  },
  {
   "cell_type": "code",
   "execution_count": null,
   "id": "addressed-assumption",
   "metadata": {},
   "outputs": [],
   "source": [
    "x <- 10 # create an object called 'x' and give it the value '10'"
   ]
  },
  {
   "cell_type": "code",
   "execution_count": null,
   "id": "crucial-implement",
   "metadata": {},
   "outputs": [],
   "source": [
    "x * 5 # multiply 'x' by 5"
   ]
  },
  {
   "cell_type": "markdown",
   "id": "covered-round",
   "metadata": {},
   "source": [
    "### Learn more\n",
    "\n",
    "Jupyter notebooks provide rich, flexible features for conducting and documenting your data analysis workflow. To learn more about additional notebook features, we recommend working through some of the <a href=\"https://github.com/darribas/gds19/blob/master/content/labs/lab_00.ipynb\" target=_blank>materials</a> provided by Dani Arribas-Bel at the University of Liverpool. "
   ]
  },
  {
   "cell_type": "markdown",
   "id": "floppy-escape",
   "metadata": {},
   "source": [
    "### Learner input\n",
    "\n",
    "Throughout the lessons there times when you need to do the following activities:\n",
    "* **TASK:** A coding task for you to complete (e.g. analyse different variables).\n",
    "* **QUESTION:** A question regarding your interpretation of some code or a technique (e.g. what is the piece of code doing?).\n",
    "* **EXERCISE:** A data analysis challenge for you to complete."
   ]
  },
  {
   "cell_type": "markdown",
   "id": "democratic-office",
   "metadata": {},
   "source": [
    "## Making comparisons"
   ]
  },
  {
   "cell_type": "markdown",
   "id": "respected-comedy",
   "metadata": {},
   "source": [
    "In the [**Statistical Summaries** lesson](https://github.com/DiarmuidM/foundations-of-quantitative-research-methods/blob/main/lessons/socy08022-statistical-summaries-2022-03-16.ipynb), we learned how to produce statistical summaries of categorical and numeric variables. This is an important step in any quantitative data analysis as it provides a basic understanding of our key variables. However many of the more interesting social science research questions involve **making comparisons**:\n",
    "* [Is there a difference in the earnings of men and women?](https://doi.org/10.1177%2F0095399716636928)\n",
    "* [Are children living in the most deprived areas more likely to be obese than those living in the least deprived?](http://dx.doi.org/10.1136/archdischild-2014-307036)\n",
    "* [Does ethnicity affect trust in the police?](https://doi.org/10.1177%2F1098611104271105) "
   ]
  },
  {
   "cell_type": "markdown",
   "id": "modern-nursery",
   "metadata": {},
   "source": [
    "Thus in this lesson we will focus on making comparisons using two variables of interest. In particular we will compare the following types of variables:\n",
    "* **Categorical vs Categorical**\n",
    "* **Categorical vs Numeric**\n",
    "* **Numeric vs Numeric**"
   ]
  },
  {
   "cell_type": "markdown",
   "id": "honest-tackle",
   "metadata": {},
   "source": [
    "The process of comparing two variables is known as **bivariate data analysis**."
   ]
  },
  {
   "cell_type": "markdown",
   "id": "synthetic-amino",
   "metadata": {},
   "source": [
    "Although the specific bivariate analysis techniques differ depending on which types of variables we are comparing, there is a common process:\n",
    "1. Produce a table or graph of the joint distribution of the two variables.\n",
    "2. Calculate a statistic that summarises key features of the joint distribution.\n",
    "3. Make a statement about whether the pattern you observe likely to generalise or not (that is, does the pattern only exist in your sample? Or are you likely to find it also in the population from which your sample came?).\n",
    "\n",
    "We will focus on the first two steps in the process in this lesson. In Week 12 we will address the third step."
   ]
  },
  {
   "cell_type": "markdown",
   "id": "actual-grill",
   "metadata": {},
   "source": [
    "### Terminology\n",
    "\n",
    "Let's refresh our memory of key terms when conducting quantitative data analysis:\n",
    "* **Case** - the entity we are analysing e.g., people, countries, companies, animals, events.\n",
    "* **Variable** - a characteristic that can vary in value among cases in a sample or population. Usually represented as a column in a dataset.\n",
    "* **Observation** - a set of measurements of the variables for a case. Usually represented as a row in a dataset.\n",
    "* **Respondent** - the case who responds to the survey - for obvious reasons, almost always a person.\n",
    "* **Dependent variable (Y)** - the characteristic we are trying to describe / explain.\n",
    "* **Independent variable (X)** - the characteristic we think helps describe or explain the dependent variable.\n",
    "\n",
    "The designation of one variable as the dependent and the other as the independent is your decision and does not affect the type of bivariate analysis you need. It simply provides a better link with a theory you think explains the relationship you observe."
   ]
  },
  {
   "cell_type": "markdown",
   "id": "endless-entertainment",
   "metadata": {},
   "source": [
    "### Correlation"
   ]
  },
  {
   "cell_type": "markdown",
   "id": "upper-favorite",
   "metadata": {},
   "source": [
    "The purpose of making comparisons is to reveal whether there is a correlation (association) between two variables. What do we mean by correlation? Simply that there is a relationship between two variables (Fogarty, 2019). For example, as the value of one variable increases, do we also observe a similar increase in a second variable?\n",
    "\n",
    "The relationship may be non-existent, weak, moderate or strong. It may be positive (both variables increase/decrease in value) or negative (e.g., one increases and the other decreases). Or if we are dealing with categorical variables, are you more likely to be in a category of the dependent variable based on being a member of a category of the independent variable (e.g., are you more likely to vote SNP if you are married)?"
   ]
  },
  {
   "cell_type": "markdown",
   "id": "public-salon",
   "metadata": {},
   "source": [
    "**Caveat**: it is important to remember that even though two variables may be associated, it does not mean there is a causal link between them. As is oft-stated: correlation does not equal causation."
   ]
  },
  {
   "cell_type": "markdown",
   "id": "funny-branch",
   "metadata": {},
   "source": [
    "![xkcd comic](https://imgs.xkcd.com/comics/correlation.png)"
   ]
  },
  {
   "cell_type": "markdown",
   "id": "rural-progress",
   "metadata": {},
   "source": [
    "## Doing data analysis"
   ]
  },
  {
   "cell_type": "markdown",
   "id": "caroline-province",
   "metadata": {},
   "source": [
    "In this lesson we focus on analysing *two* variables at a time. In particular, we will examine whether:\n",
    "1. A respondent's sex is correlated with their attitude to income inequality in Britain (*Categorical vs Categorical* comparison).\n",
    "2. A respondent's age is correlated with their estimate of how many welfare claimants are engaging in fraud (*Categorical vs Numeric* comparison).\n",
    "3. A respondent's attitude to welfare is correlated with their estimate of how many welfare claimants are engaging in fraud (*Numeric vs Numeric* comparison)."
   ]
  },
  {
   "cell_type": "markdown",
   "id": "framed-privacy",
   "metadata": {},
   "source": [
    "### Importing data"
   ]
  },
  {
   "cell_type": "markdown",
   "id": "stone-qatar",
   "metadata": {},
   "source": [
    "The first step is to import the *British Social Attidues* data for analysis."
   ]
  },
  {
   "cell_type": "code",
   "execution_count": 1,
   "id": "agreed-future",
   "metadata": {},
   "outputs": [
    {
     "data": {
      "text/html": [
       "<table class=\"dataframe\">\n",
       "<caption>A data.frame: 6 × 26</caption>\n",
       "<thead>\n",
       "\t<tr><th></th><th scope=col>Sserial</th><th scope=col>WtFactor</th><th scope=col>RSex</th><th scope=col>RAgeCat</th><th scope=col>eq_inc_quintiles</th><th scope=col>RClassGp</th><th scope=col>HEdQual3</th><th scope=col>Married</th><th scope=col>ChildHh</th><th scope=col>skipmeal</th><th scope=col>...</th><th scope=col>Dole</th><th scope=col>TaxSpend</th><th scope=col>MuchPov</th><th scope=col>Poverty1</th><th scope=col>Poverty2</th><th scope=col>NatFrEst</th><th scope=col>incdiffs</th><th scope=col>welfare2</th><th scope=col>leftrigh</th><th scope=col>libauth</th></tr>\n",
       "\t<tr><th></th><th scope=col>&lt;int&gt;</th><th scope=col>&lt;dbl&gt;</th><th scope=col>&lt;int&gt;</th><th scope=col>&lt;int&gt;</th><th scope=col>&lt;int&gt;</th><th scope=col>&lt;int&gt;</th><th scope=col>&lt;int&gt;</th><th scope=col>&lt;int&gt;</th><th scope=col>&lt;int&gt;</th><th scope=col>&lt;int&gt;</th><th scope=col>...</th><th scope=col>&lt;int&gt;</th><th scope=col>&lt;int&gt;</th><th scope=col>&lt;int&gt;</th><th scope=col>&lt;int&gt;</th><th scope=col>&lt;int&gt;</th><th scope=col>&lt;int&gt;</th><th scope=col>&lt;int&gt;</th><th scope=col>&lt;dbl&gt;</th><th scope=col>&lt;dbl&gt;</th><th scope=col>&lt;dbl&gt;</th></tr>\n",
       "</thead>\n",
       "<tbody>\n",
       "\t<tr><th scope=row>1</th><td>310001</td><td>0.9119594</td><td>2</td><td>6</td><td>-1</td><td>1</td><td>2</td><td>1</td><td>2</td><td>-1</td><td>...</td><td>3</td><td>3</td><td>8</td><td>2</td><td>1</td><td> 5</td><td>-1</td><td>2.500</td><td>2.4</td><td>3.500000</td></tr>\n",
       "\t<tr><th scope=row>2</th><td>310002</td><td>0.4439626</td><td>2</td><td>3</td><td> 5</td><td>1</td><td>2</td><td>2</td><td>2</td><td> 1</td><td>...</td><td>2</td><td>3</td><td>2</td><td>2</td><td>2</td><td>30</td><td> 2</td><td>3.125</td><td>2.0</td><td>3.833333</td></tr>\n",
       "\t<tr><th scope=row>3</th><td>310003</td><td>1.2182741</td><td>2</td><td>4</td><td>-1</td><td>1</td><td>3</td><td>1</td><td>1</td><td>-1</td><td>...</td><td>2</td><td>2</td><td>2</td><td>2</td><td>2</td><td>50</td><td>-1</td><td>3.125</td><td>2.2</td><td>4.166667</td></tr>\n",
       "\t<tr><th scope=row>4</th><td>310004</td><td>1.5839969</td><td>1</td><td>2</td><td> 4</td><td>1</td><td>2</td><td>4</td><td>2</td><td>-1</td><td>...</td><td>3</td><td>3</td><td>2</td><td>2</td><td>1</td><td>50</td><td>-1</td><td>2.250</td><td>3.2</td><td>2.166667</td></tr>\n",
       "\t<tr><th scope=row>5</th><td>310005</td><td>0.4743091</td><td>1</td><td>6</td><td>-1</td><td>5</td><td>4</td><td>4</td><td>2</td><td> 1</td><td>...</td><td>2</td><td>3</td><td>1</td><td>2</td><td>1</td><td>50</td><td> 4</td><td>3.375</td><td>1.6</td><td>4.666667</td></tr>\n",
       "\t<tr><th scope=row>6</th><td>310006</td><td>1.1363125</td><td>1</td><td>4</td><td> 1</td><td>3</td><td>8</td><td>1</td><td>1</td><td>-1</td><td>...</td><td>2</td><td>2</td><td>1</td><td>1</td><td>1</td><td>10</td><td>-1</td><td>2.875</td><td>1.8</td><td>3.666667</td></tr>\n",
       "</tbody>\n",
       "</table>\n"
      ],
      "text/latex": [
       "A data.frame: 6 × 26\n",
       "\\begin{tabular}{r|lllllllllllllllllllll}\n",
       "  & Sserial & WtFactor & RSex & RAgeCat & eq\\_inc\\_quintiles & RClassGp & HEdQual3 & Married & ChildHh & skipmeal & ... & Dole & TaxSpend & MuchPov & Poverty1 & Poverty2 & NatFrEst & incdiffs & welfare2 & leftrigh & libauth\\\\\n",
       "  & <int> & <dbl> & <int> & <int> & <int> & <int> & <int> & <int> & <int> & <int> & ... & <int> & <int> & <int> & <int> & <int> & <int> & <int> & <dbl> & <dbl> & <dbl>\\\\\n",
       "\\hline\n",
       "\t1 & 310001 & 0.9119594 & 2 & 6 & -1 & 1 & 2 & 1 & 2 & -1 & ... & 3 & 3 & 8 & 2 & 1 &  5 & -1 & 2.500 & 2.4 & 3.500000\\\\\n",
       "\t2 & 310002 & 0.4439626 & 2 & 3 &  5 & 1 & 2 & 2 & 2 &  1 & ... & 2 & 3 & 2 & 2 & 2 & 30 &  2 & 3.125 & 2.0 & 3.833333\\\\\n",
       "\t3 & 310003 & 1.2182741 & 2 & 4 & -1 & 1 & 3 & 1 & 1 & -1 & ... & 2 & 2 & 2 & 2 & 2 & 50 & -1 & 3.125 & 2.2 & 4.166667\\\\\n",
       "\t4 & 310004 & 1.5839969 & 1 & 2 &  4 & 1 & 2 & 4 & 2 & -1 & ... & 3 & 3 & 2 & 2 & 1 & 50 & -1 & 2.250 & 3.2 & 2.166667\\\\\n",
       "\t5 & 310005 & 0.4743091 & 1 & 6 & -1 & 5 & 4 & 4 & 2 &  1 & ... & 2 & 3 & 1 & 2 & 1 & 50 &  4 & 3.375 & 1.6 & 4.666667\\\\\n",
       "\t6 & 310006 & 1.1363125 & 1 & 4 &  1 & 3 & 8 & 1 & 1 & -1 & ... & 2 & 2 & 1 & 1 & 1 & 10 & -1 & 2.875 & 1.8 & 3.666667\\\\\n",
       "\\end{tabular}\n"
      ],
      "text/markdown": [
       "\n",
       "A data.frame: 6 × 26\n",
       "\n",
       "| <!--/--> | Sserial &lt;int&gt; | WtFactor &lt;dbl&gt; | RSex &lt;int&gt; | RAgeCat &lt;int&gt; | eq_inc_quintiles &lt;int&gt; | RClassGp &lt;int&gt; | HEdQual3 &lt;int&gt; | Married &lt;int&gt; | ChildHh &lt;int&gt; | skipmeal &lt;int&gt; | ... ... | Dole &lt;int&gt; | TaxSpend &lt;int&gt; | MuchPov &lt;int&gt; | Poverty1 &lt;int&gt; | Poverty2 &lt;int&gt; | NatFrEst &lt;int&gt; | incdiffs &lt;int&gt; | welfare2 &lt;dbl&gt; | leftrigh &lt;dbl&gt; | libauth &lt;dbl&gt; |\n",
       "|---|---|---|---|---|---|---|---|---|---|---|---|---|---|---|---|---|---|---|---|---|---|\n",
       "| 1 | 310001 | 0.9119594 | 2 | 6 | -1 | 1 | 2 | 1 | 2 | -1 | ... | 3 | 3 | 8 | 2 | 1 |  5 | -1 | 2.500 | 2.4 | 3.500000 |\n",
       "| 2 | 310002 | 0.4439626 | 2 | 3 |  5 | 1 | 2 | 2 | 2 |  1 | ... | 2 | 3 | 2 | 2 | 2 | 30 |  2 | 3.125 | 2.0 | 3.833333 |\n",
       "| 3 | 310003 | 1.2182741 | 2 | 4 | -1 | 1 | 3 | 1 | 1 | -1 | ... | 2 | 2 | 2 | 2 | 2 | 50 | -1 | 3.125 | 2.2 | 4.166667 |\n",
       "| 4 | 310004 | 1.5839969 | 1 | 2 |  4 | 1 | 2 | 4 | 2 | -1 | ... | 3 | 3 | 2 | 2 | 1 | 50 | -1 | 2.250 | 3.2 | 2.166667 |\n",
       "| 5 | 310005 | 0.4743091 | 1 | 6 | -1 | 5 | 4 | 4 | 2 |  1 | ... | 2 | 3 | 1 | 2 | 1 | 50 |  4 | 3.375 | 1.6 | 4.666667 |\n",
       "| 6 | 310006 | 1.1363125 | 1 | 4 |  1 | 3 | 8 | 1 | 1 | -1 | ... | 2 | 2 | 1 | 1 | 1 | 10 | -1 | 2.875 | 1.8 | 3.666667 |\n",
       "\n"
      ],
      "text/plain": [
       "  Sserial WtFactor  RSex RAgeCat eq_inc_quintiles RClassGp HEdQual3 Married\n",
       "1 310001  0.9119594 2    6       -1               1        2        1      \n",
       "2 310002  0.4439626 2    3        5               1        2        2      \n",
       "3 310003  1.2182741 2    4       -1               1        3        1      \n",
       "4 310004  1.5839969 1    2        4               1        2        4      \n",
       "5 310005  0.4743091 1    6       -1               5        4        4      \n",
       "6 310006  1.1363125 1    4        1               3        8        1      \n",
       "  ChildHh skipmeal ... Dole TaxSpend MuchPov Poverty1 Poverty2 NatFrEst\n",
       "1 2       -1       ... 3    3        8       2        1         5      \n",
       "2 2        1       ... 2    3        2       2        2        30      \n",
       "3 1       -1       ... 2    2        2       2        2        50      \n",
       "4 2       -1       ... 3    3        2       2        1        50      \n",
       "5 2        1       ... 2    3        1       2        1        50      \n",
       "6 1       -1       ... 2    2        1       1        1        10      \n",
       "  incdiffs welfare2 leftrigh libauth \n",
       "1 -1       2.500    2.4      3.500000\n",
       "2  2       3.125    2.0      3.833333\n",
       "3 -1       3.125    2.2      4.166667\n",
       "4 -1       2.250    3.2      2.166667\n",
       "5  4       3.375    1.6      4.666667\n",
       "6 -1       2.875    1.8      3.666667"
      ]
     },
     "metadata": {},
     "output_type": "display_data"
    }
   ],
   "source": [
    "bsa2019 <- read.table(\"./data/bsa2019_poverty_open.tab\", header=TRUE, na=\"NA\", sep=\"\\t\")\n",
    "head(bsa2019) # view the first six observations"
   ]
  },
  {
   "cell_type": "code",
   "execution_count": 2,
   "id": "greek-result",
   "metadata": {},
   "outputs": [
    {
     "data": {
      "text/html": [
       "<style>\n",
       ".list-inline {list-style: none; margin:0; padding: 0}\n",
       ".list-inline>li {display: inline-block}\n",
       ".list-inline>li:not(:last-child)::after {content: \"\\00b7\"; padding: 0 .5ex}\n",
       "</style>\n",
       "<ol class=list-inline><li>'Sserial'</li><li>'WtFactor'</li><li>'RSex'</li><li>'RAgeCat'</li><li>'eq_inc_quintiles'</li><li>'RClassGp'</li><li>'HEdQual3'</li><li>'Married'</li><li>'ChildHh'</li><li>'skipmeal'</li><li>'paptype'</li><li>'SMNews'</li><li>'PartyId2'</li><li>'Politics'</li><li>'SocTrust'</li><li>'Spend1'</li><li>'Dole'</li><li>'TaxSpend'</li><li>'MuchPov'</li><li>'Poverty1'</li><li>'Poverty2'</li><li>'NatFrEst'</li><li>'incdiffs'</li><li>'welfare2'</li><li>'leftrigh'</li><li>'libauth'</li></ol>\n"
      ],
      "text/latex": [
       "\\begin{enumerate*}\n",
       "\\item 'Sserial'\n",
       "\\item 'WtFactor'\n",
       "\\item 'RSex'\n",
       "\\item 'RAgeCat'\n",
       "\\item 'eq\\_inc\\_quintiles'\n",
       "\\item 'RClassGp'\n",
       "\\item 'HEdQual3'\n",
       "\\item 'Married'\n",
       "\\item 'ChildHh'\n",
       "\\item 'skipmeal'\n",
       "\\item 'paptype'\n",
       "\\item 'SMNews'\n",
       "\\item 'PartyId2'\n",
       "\\item 'Politics'\n",
       "\\item 'SocTrust'\n",
       "\\item 'Spend1'\n",
       "\\item 'Dole'\n",
       "\\item 'TaxSpend'\n",
       "\\item 'MuchPov'\n",
       "\\item 'Poverty1'\n",
       "\\item 'Poverty2'\n",
       "\\item 'NatFrEst'\n",
       "\\item 'incdiffs'\n",
       "\\item 'welfare2'\n",
       "\\item 'leftrigh'\n",
       "\\item 'libauth'\n",
       "\\end{enumerate*}\n"
      ],
      "text/markdown": [
       "1. 'Sserial'\n",
       "2. 'WtFactor'\n",
       "3. 'RSex'\n",
       "4. 'RAgeCat'\n",
       "5. 'eq_inc_quintiles'\n",
       "6. 'RClassGp'\n",
       "7. 'HEdQual3'\n",
       "8. 'Married'\n",
       "9. 'ChildHh'\n",
       "10. 'skipmeal'\n",
       "11. 'paptype'\n",
       "12. 'SMNews'\n",
       "13. 'PartyId2'\n",
       "14. 'Politics'\n",
       "15. 'SocTrust'\n",
       "16. 'Spend1'\n",
       "17. 'Dole'\n",
       "18. 'TaxSpend'\n",
       "19. 'MuchPov'\n",
       "20. 'Poverty1'\n",
       "21. 'Poverty2'\n",
       "22. 'NatFrEst'\n",
       "23. 'incdiffs'\n",
       "24. 'welfare2'\n",
       "25. 'leftrigh'\n",
       "26. 'libauth'\n",
       "\n",
       "\n"
      ],
      "text/plain": [
       " [1] \"Sserial\"          \"WtFactor\"         \"RSex\"             \"RAgeCat\"         \n",
       " [5] \"eq_inc_quintiles\" \"RClassGp\"         \"HEdQual3\"         \"Married\"         \n",
       " [9] \"ChildHh\"          \"skipmeal\"         \"paptype\"          \"SMNews\"          \n",
       "[13] \"PartyId2\"         \"Politics\"         \"SocTrust\"         \"Spend1\"          \n",
       "[17] \"Dole\"             \"TaxSpend\"         \"MuchPov\"          \"Poverty1\"        \n",
       "[21] \"Poverty2\"         \"NatFrEst\"         \"incdiffs\"         \"welfare2\"        \n",
       "[25] \"leftrigh\"         \"libauth\"         "
      ]
     },
     "metadata": {},
     "output_type": "display_data"
    }
   ],
   "source": [
    "names(bsa2019)"
   ]
  },
  {
   "cell_type": "markdown",
   "id": "legendary-tactics",
   "metadata": {},
   "source": [
    "### Categorical vs Categorical"
   ]
  },
  {
   "cell_type": "markdown",
   "id": "electrical-preparation",
   "metadata": {},
   "source": [
    "The two variables we need for our comparison are:\n",
    "* `RSex` is a binary measure of a respondent's sex. There are two categories: Male and Female. It is a type of nominal variable.\n",
    "*  `incdiffs` is a measure of how strongly respondent's agree or disagree about the level of income inequality in Britain: *Differences in income in GB are too large?* The responses are a set of categories ranging from \"Strongly agree\" to \"Strongly disagree\", therefore this is a categorical variable, specifically an ordinal variable."
   ]
  },
  {
   "cell_type": "markdown",
   "id": "finite-edward",
   "metadata": {},
   "source": [
    "#### Labelling values"
   ]
  },
  {
   "cell_type": "markdown",
   "id": "treated-klein",
   "metadata": {},
   "source": [
    "Revisit the first lesson if you want to understand why it is important to label the values of our categorical variables. For now we will just perform this task quickly."
   ]
  },
  {
   "cell_type": "code",
   "execution_count": 3,
   "id": "instant-captain",
   "metadata": {},
   "outputs": [],
   "source": [
    "bsa2019$incdiffs <- factor(bsa2019$incdiffs, levels = c(1,2,3,4,5), labels = c(\"Strongly agree\", \"Agree\", \n",
    "                                                                               \"Neither agree nor disagree\", \"Disagree\", \"Strongly disagree\"))"
   ]
  },
  {
   "cell_type": "code",
   "execution_count": 4,
   "id": "interior-price",
   "metadata": {},
   "outputs": [],
   "source": [
    "bsa2019$RSex <- factor(bsa2019$RSex, levels = c(1,2), labels = c(\"Male\", \"Female\"))"
   ]
  },
  {
   "cell_type": "code",
   "execution_count": 34,
   "id": "smooth-trial",
   "metadata": {},
   "outputs": [],
   "source": [
    "bsa2019$RAgeCat <- factor(bsa2019$RAgeCat, levels = c(1,2,3,4,5,6,7), labels = c(\"18-24\", \"25-34\", \"35-44\", \"45-54\", \n",
    "                                                                                \"55-59\", \"60-64\", \"65+\"))"
   ]
  },
  {
   "cell_type": "markdown",
   "id": "thermal-valve",
   "metadata": {},
   "source": [
    "#### Separate summaries"
   ]
  },
  {
   "cell_type": "markdown",
   "id": "faced-dietary",
   "metadata": {},
   "source": [
    "We begin by displaying separate frequency tables for each variable:"
   ]
  },
  {
   "cell_type": "code",
   "execution_count": 5,
   "id": "intelligent-supplement",
   "metadata": {},
   "outputs": [
    {
     "data": {
      "text/plain": [
       "\n",
       "            Strongly agree                      Agree \n",
       "                       621                        710 \n",
       "Neither agree nor disagree                   Disagree \n",
       "                       244                         57 \n",
       "         Strongly disagree \n",
       "                        18 "
      ]
     },
     "metadata": {},
     "output_type": "display_data"
    }
   ],
   "source": [
    "table(bsa2019$incdiffs)"
   ]
  },
  {
   "cell_type": "code",
   "execution_count": 6,
   "id": "coastal-passenger",
   "metadata": {},
   "outputs": [
    {
     "data": {
      "text/plain": [
       "\n",
       "  Male Female \n",
       "  1454   1770 "
      ]
     },
     "metadata": {},
     "output_type": "display_data"
    }
   ],
   "source": [
    "table(bsa2019$RSex)"
   ]
  },
  {
   "cell_type": "markdown",
   "id": "otherwise-domestic",
   "metadata": {},
   "source": [
    "A slight majority of respondents are female, and the vast majority agree or strongly agree that income inequality is too large in Britain."
   ]
  },
  {
   "cell_type": "markdown",
   "id": "disabled-photography",
   "metadata": {},
   "source": [
    "Now let's make things more interesting by asking: is there a correlation between somebody's sex and whether they think income inequality is too large. More precisely, we are designating sex as the **independent variable** and attitude to income inequality as the **dependent variable**.\n",
    "\n",
    "A little thinking should clarify why this designation makes sense: we can imagine ways in which a person's sex informs their political and social attitudes; it is impossible for a person's attitudes to determine / explain / cause their sex."
   ]
  },
  {
   "cell_type": "markdown",
   "id": "pregnant-wells",
   "metadata": {},
   "source": [
    "#### Joint distribution"
   ]
  },
  {
   "cell_type": "markdown",
   "id": "rolled-acoustic",
   "metadata": {},
   "source": [
    "We can make our comparison by producing a frequency table of the two variables simultaneously, known as a **crosstabulation** or **contingency table**:"
   ]
  },
  {
   "cell_type": "code",
   "execution_count": 12,
   "id": "spare-google",
   "metadata": {},
   "outputs": [
    {
     "data": {
      "text/html": [
       "<table class=\"dataframe\">\n",
       "<caption>A table: 5 × 3 of type dbl</caption>\n",
       "<thead>\n",
       "\t<tr><th></th><th scope=col>Male</th><th scope=col>Female</th><th scope=col>mean</th></tr>\n",
       "</thead>\n",
       "<tbody>\n",
       "\t<tr><th scope=row>Strongly agree</th><td>36</td><td>39</td><td>37</td></tr>\n",
       "\t<tr><th scope=row>Agree</th><td>43</td><td>43</td><td>43</td></tr>\n",
       "\t<tr><th scope=row>Neither agree nor disagree</th><td>15</td><td>15</td><td>15</td></tr>\n",
       "\t<tr><th scope=row>Disagree</th><td> 5</td><td> 2</td><td> 4</td></tr>\n",
       "\t<tr><th scope=row>Strongly disagree</th><td> 2</td><td> 1</td><td> 1</td></tr>\n",
       "</tbody>\n",
       "</table>\n"
      ],
      "text/latex": [
       "A table: 5 × 3 of type dbl\n",
       "\\begin{tabular}{r|lll}\n",
       "  & Male & Female & mean\\\\\n",
       "\\hline\n",
       "\tStrongly agree & 36 & 39 & 37\\\\\n",
       "\tAgree & 43 & 43 & 43\\\\\n",
       "\tNeither agree nor disagree & 15 & 15 & 15\\\\\n",
       "\tDisagree &  5 &  2 &  4\\\\\n",
       "\tStrongly disagree &  2 &  1 &  1\\\\\n",
       "\\end{tabular}\n"
      ],
      "text/markdown": [
       "\n",
       "A table: 5 × 3 of type dbl\n",
       "\n",
       "| <!--/--> | Male | Female | mean |\n",
       "|---|---|---|---|\n",
       "| Strongly agree | 36 | 39 | 37 |\n",
       "| Agree | 43 | 43 | 43 |\n",
       "| Neither agree nor disagree | 15 | 15 | 15 |\n",
       "| Disagree |  5 |  2 |  4 |\n",
       "| Strongly disagree |  2 |  1 |  1 |\n",
       "\n"
      ],
      "text/plain": [
       "                            \n",
       "                             Male Female mean\n",
       "  Strongly agree             36   39     37  \n",
       "  Agree                      43   43     43  \n",
       "  Neither agree nor disagree 15   15     15  \n",
       "  Disagree                    5    2      4  \n",
       "  Strongly disagree           2    1      1  "
      ]
     },
     "metadata": {},
     "output_type": "display_data"
    }
   ],
   "source": [
    "crotab <- round(addmargins(prop.table(table(bsa2019$incdiffs, bsa2019$RSex), 2) * 100, 2, FUN = mean), 0) # build table\n",
    "crotab # display table"
   ]
  },
  {
   "cell_type": "markdown",
   "id": "humanitarian-leisure",
   "metadata": {},
   "source": [
    "The table displays the percentage of males and females in each category of the income inequality variable. For each row in the table, we can compare the percentage of males and females. For example, a slightly higher percentage of females compared to males strongly agree that income inequality is too large in Britain. \n",
    "\n",
    "The *mean* column shows what percentage of respondents overall are in each category of the income inequality variable. That is, what percentage of males AND females strongly agree etc.\n",
    "\n",
    "While we observe minor differences in some rows, the overall pattern is clear: there are few differences in the attitudes of males and females with respect to income inequality."
   ]
  },
  {
   "cell_type": "markdown",
   "id": "broken-coupon",
   "metadata": {},
   "source": [
    "#### Measures of association"
   ]
  },
  {
   "cell_type": "markdown",
   "id": "spare-closing",
   "metadata": {},
   "source": [
    "Our visual inspection of the joint distribution of the two variables - `RSex` and `incdiffs` - suggests that there is no correlation between them. That is, knowing a respondent's sex does not predict their attitude to income inequality.\n",
    "\n",
    "However it would be nice to quantify the apparent lack of a correlation. We can do this by selecting an appropriate **measure of association**."
   ]
  },
  {
   "cell_type": "markdown",
   "id": "voluntary-motor",
   "metadata": {},
   "source": [
    "Recall that we have two categorical variables, specifically one nominal (`RSex`) and one ordinal (`incdiffs`). In this instance the most appropriate measure of association is called *Cramer's V*. This measure ranges between 0 (no correlation) and 1 (perfect correlation) and summarises the strength of the association between two varaibles.\n",
    "\n",
    "Let's calculate it for our two variables of interest:"
   ]
  },
  {
   "cell_type": "code",
   "execution_count": 25,
   "id": "developmental-yahoo",
   "metadata": {},
   "outputs": [],
   "source": [
    "library(lsr) # import additional functions into R"
   ]
  },
  {
   "cell_type": "code",
   "execution_count": 26,
   "id": "increasing-array",
   "metadata": {},
   "outputs": [
    {
     "data": {
      "text/html": [
       "0.09"
      ],
      "text/latex": [
       "0.09"
      ],
      "text/markdown": [
       "0.09"
      ],
      "text/plain": [
       "[1] 0.09"
      ]
     },
     "metadata": {},
     "output_type": "display_data"
    }
   ],
   "source": [
    "round(cramersV(bsa2019$incdiffs, bsa2019$RSex), 2)"
   ]
  },
  {
   "cell_type": "markdown",
   "id": "informal-fundamentals",
   "metadata": {},
   "source": [
    "**QUESTION**: how would you describe the strength of the association between sex and attitude to income inequality?"
   ]
  },
  {
   "cell_type": "markdown",
   "id": "relative-central",
   "metadata": {},
   "source": [
    "### Categorical vs Numeric"
   ]
  },
  {
   "cell_type": "markdown",
   "id": "finnish-jordan",
   "metadata": {},
   "source": [
    "How do we approach bivariate analysis when we have one categorical and one numeric variable? The key task is to summarise the numeric variable for different categories of our categorical variable. That is, we want to see if measures of central tendency (e.g., mean, median) and dispersion (e.g., standard deviation, minimum, maximum) vary across categories of a chosen variable."
   ]
  },
  {
   "cell_type": "markdown",
   "id": "becoming-recovery",
   "metadata": {},
   "source": [
    "#### Separate summaries"
   ]
  },
  {
   "cell_type": "markdown",
   "id": "comprehensive-kidney",
   "metadata": {},
   "source": [
    "We are interested in whether a respondent's age (`RAgeCat`) is correlated with their estimate of how many welfare claimants are engaging in fraud (`NatFrEst`)."
   ]
  },
  {
   "cell_type": "code",
   "execution_count": 36,
   "id": "important-gnome",
   "metadata": {},
   "outputs": [
    {
     "data": {
      "text/plain": [
       " 18-24 25-34 35-44 45-54 55-59 60-64 65+\n",
       "                                        \n",
       "     6    13    16    17     8     8  31"
      ]
     },
     "metadata": {},
     "output_type": "display_data"
    }
   ],
   "source": [
    "round(prop.table(ftable(bsa2019$RAgeCat)) * 100, 0)"
   ]
  },
  {
   "cell_type": "markdown",
   "id": "conventional-focus",
   "metadata": {},
   "source": [
    "31% of respondents to the survey were 65 years or older."
   ]
  },
  {
   "cell_type": "code",
   "execution_count": 37,
   "id": "entitled-player",
   "metadata": {},
   "outputs": [],
   "source": [
    "bsa2019$NatFrEst[bsa2019$NatFrEst > 100] <- NA # set \"998\" and \"999\" as missing values"
   ]
  },
  {
   "cell_type": "code",
   "execution_count": 38,
   "id": "charming-monkey",
   "metadata": {},
   "outputs": [
    {
     "data": {
      "text/plain": [
       "   Min. 1st Qu.  Median    Mean 3rd Qu.    Max.    NA's \n",
       "    0.0    10.0    30.0    35.8    50.0   100.0     246 "
      ]
     },
     "metadata": {},
     "output_type": "display_data"
    }
   ],
   "source": [
    "summary(bsa2019$NatFrEst)"
   ]
  },
  {
   "cell_type": "code",
   "execution_count": 39,
   "id": "starting-paste",
   "metadata": {},
   "outputs": [
    {
     "data": {
      "image/png": "[encoded data removed]",
      "text/plain": [
       "Plot with title \"Histogram of bsa2019$NatFrEst\""
      ]
     },
     "metadata": {
      "image/png": {
       "height": 420,
       "width": 420
      }
     },
     "output_type": "display_data"
    }
   ],
   "source": [
    "hist(bsa2019$NatFrEst, breaks = seq(0, 100, by=10))"
   ]
  },
  {
   "cell_type": "markdown",
   "id": "legislative-damage",
   "metadata": {},
   "source": [
    "#### Joint distribution"
   ]
  },
  {
   "cell_type": "markdown",
   "id": "uniform-ebony",
   "metadata": {},
   "source": [
    "We can use a **table of means** to see how the average of a numeric variable varies across categories of a categorical variable. Actually, this approach can be generalised to include lots of other summaries of numeric variables (e.g., standard deviation, minimum, maximum). Let's see an example by comparing whether average estimate of welfare fraud varies across categories of age:"
   ]
  },
  {
   "cell_type": "code",
   "execution_count": 44,
   "id": "serious-conference",
   "metadata": {},
   "outputs": [
    {
     "data": {
      "text/html": [
       "<table class=\"dataframe\">\n",
       "<caption>A data.frame: 7 × 2</caption>\n",
       "<thead>\n",
       "\t<tr><th scope=col>RAgeCat</th><th scope=col>NatFrEst</th></tr>\n",
       "\t<tr><th scope=col>&lt;fct&gt;</th><th scope=col>&lt;dbl&gt;</th></tr>\n",
       "</thead>\n",
       "<tbody>\n",
       "\t<tr><td>18-24</td><td>34.77660</td></tr>\n",
       "\t<tr><td>25-34</td><td>35.72613</td></tr>\n",
       "\t<tr><td>35-44</td><td>34.73200</td></tr>\n",
       "\t<tr><td>45-54</td><td>34.02372</td></tr>\n",
       "\t<tr><td>55-59</td><td>36.22128</td></tr>\n",
       "\t<tr><td>60-64</td><td>34.56118</td></tr>\n",
       "\t<tr><td>65+  </td><td>37.84176</td></tr>\n",
       "</tbody>\n",
       "</table>\n"
      ],
      "text/latex": [
       "A data.frame: 7 × 2\n",
       "\\begin{tabular}{ll}\n",
       " RAgeCat & NatFrEst\\\\\n",
       " <fct> & <dbl>\\\\\n",
       "\\hline\n",
       "\t 18-24 & 34.77660\\\\\n",
       "\t 25-34 & 35.72613\\\\\n",
       "\t 35-44 & 34.73200\\\\\n",
       "\t 45-54 & 34.02372\\\\\n",
       "\t 55-59 & 36.22128\\\\\n",
       "\t 60-64 & 34.56118\\\\\n",
       "\t 65+   & 37.84176\\\\\n",
       "\\end{tabular}\n"
      ],
      "text/markdown": [
       "\n",
       "A data.frame: 7 × 2\n",
       "\n",
       "| RAgeCat &lt;fct&gt; | NatFrEst &lt;dbl&gt; |\n",
       "|---|---|\n",
       "| 18-24 | 34.77660 |\n",
       "| 25-34 | 35.72613 |\n",
       "| 35-44 | 34.73200 |\n",
       "| 45-54 | 34.02372 |\n",
       "| 55-59 | 36.22128 |\n",
       "| 60-64 | 34.56118 |\n",
       "| 65+   | 37.84176 |\n",
       "\n"
      ],
      "text/plain": [
       "  RAgeCat NatFrEst\n",
       "1 18-24   34.77660\n",
       "2 25-34   35.72613\n",
       "3 35-44   34.73200\n",
       "4 45-54   34.02372\n",
       "5 55-59   36.22128\n",
       "6 60-64   34.56118\n",
       "7 65+     37.84176"
      ]
     },
     "metadata": {},
     "output_type": "display_data"
    }
   ],
   "source": [
    "aggregate(NatFrEst ~ RAgeCat, data = bsa2019, mean)"
   ]
  },
  {
   "cell_type": "code",
   "execution_count": 45,
   "id": "distinguished-screening",
   "metadata": {},
   "outputs": [
    {
     "data": {
      "text/html": [
       "<table class=\"dataframe\">\n",
       "<caption>A data.frame: 7 × 2</caption>\n",
       "<thead>\n",
       "\t<tr><th scope=col>RAgeCat</th><th scope=col>NatFrEst</th></tr>\n",
       "\t<tr><th scope=col>&lt;fct&gt;</th><th scope=col>&lt;dbl&gt;</th></tr>\n",
       "</thead>\n",
       "<tbody>\n",
       "\t<tr><td>18-24</td><td>30</td></tr>\n",
       "\t<tr><td>25-34</td><td>30</td></tr>\n",
       "\t<tr><td>35-44</td><td>30</td></tr>\n",
       "\t<tr><td>45-54</td><td>30</td></tr>\n",
       "\t<tr><td>55-59</td><td>30</td></tr>\n",
       "\t<tr><td>60-64</td><td>30</td></tr>\n",
       "\t<tr><td>65+  </td><td>30</td></tr>\n",
       "</tbody>\n",
       "</table>\n"
      ],
      "text/latex": [
       "A data.frame: 7 × 2\n",
       "\\begin{tabular}{ll}\n",
       " RAgeCat & NatFrEst\\\\\n",
       " <fct> & <dbl>\\\\\n",
       "\\hline\n",
       "\t 18-24 & 30\\\\\n",
       "\t 25-34 & 30\\\\\n",
       "\t 35-44 & 30\\\\\n",
       "\t 45-54 & 30\\\\\n",
       "\t 55-59 & 30\\\\\n",
       "\t 60-64 & 30\\\\\n",
       "\t 65+   & 30\\\\\n",
       "\\end{tabular}\n"
      ],
      "text/markdown": [
       "\n",
       "A data.frame: 7 × 2\n",
       "\n",
       "| RAgeCat &lt;fct&gt; | NatFrEst &lt;dbl&gt; |\n",
       "|---|---|\n",
       "| 18-24 | 30 |\n",
       "| 25-34 | 30 |\n",
       "| 35-44 | 30 |\n",
       "| 45-54 | 30 |\n",
       "| 55-59 | 30 |\n",
       "| 60-64 | 30 |\n",
       "| 65+   | 30 |\n",
       "\n"
      ],
      "text/plain": [
       "  RAgeCat NatFrEst\n",
       "1 18-24   30      \n",
       "2 25-34   30      \n",
       "3 35-44   30      \n",
       "4 45-54   30      \n",
       "5 55-59   30      \n",
       "6 60-64   30      \n",
       "7 65+     30      "
      ]
     },
     "metadata": {},
     "output_type": "display_data"
    }
   ],
   "source": [
    "aggregate(NatFrEst ~ RAgeCat, data = bsa2019, median)"
   ]
  },
  {
   "cell_type": "markdown",
   "id": "interim-assignment",
   "metadata": {},
   "source": [
    "Using the mean and median as our summaries, we see that there isn't a clear age trend in estimates of welfare fraud."
   ]
  },
  {
   "cell_type": "markdown",
   "id": "varying-rolling",
   "metadata": {},
   "source": [
    "**TASK:** Display summary tables of the minimum and maximum values of `NatFrEst`."
   ]
  },
  {
   "cell_type": "markdown",
   "id": "respiratory-citation",
   "metadata": {},
   "source": [
    "#### Measures of association"
   ]
  },
  {
   "cell_type": "markdown",
   "id": "electric-flexibility",
   "metadata": {},
   "source": [
    "The appropriate measure of association when you have one categorical and one numeric variable is:\n",
    "* *Eta squared*\n",
    "\n",
    "This tells us the strength of the association but not the direction (we need to infer this from the summary tables above). *Eta squared* coefficient ranges from 0 to 1, with higher values representing stronger associations."
   ]
  },
  {
   "cell_type": "code",
   "execution_count": 47,
   "id": "numeric-upgrade",
   "metadata": {},
   "outputs": [],
   "source": [
    "library(lsr) # import the package containing the `etaSquared()` command"
   ]
  },
  {
   "cell_type": "code",
   "execution_count": 48,
   "id": "scientific-warning",
   "metadata": {},
   "outputs": [
    {
     "data": {
      "text/html": [
       "<table class=\"dataframe\">\n",
       "<caption>A matrix: 1 × 2 of type dbl</caption>\n",
       "<thead>\n",
       "\t<tr><th></th><th scope=col>eta.sq</th><th scope=col>eta.sq.part</th></tr>\n",
       "</thead>\n",
       "<tbody>\n",
       "\t<tr><th scope=row>RAgeCat</th><td>0.00321291</td><td>0.00321291</td></tr>\n",
       "</tbody>\n",
       "</table>\n"
      ],
      "text/latex": [
       "A matrix: 1 × 2 of type dbl\n",
       "\\begin{tabular}{r|ll}\n",
       "  & eta.sq & eta.sq.part\\\\\n",
       "\\hline\n",
       "\tRAgeCat & 0.00321291 & 0.00321291\\\\\n",
       "\\end{tabular}\n"
      ],
      "text/markdown": [
       "\n",
       "A matrix: 1 × 2 of type dbl\n",
       "\n",
       "| <!--/--> | eta.sq | eta.sq.part |\n",
       "|---|---|---|\n",
       "| RAgeCat | 0.00321291 | 0.00321291 |\n",
       "\n"
      ],
      "text/plain": [
       "        eta.sq     eta.sq.part\n",
       "RAgeCat 0.00321291 0.00321291 "
      ]
     },
     "metadata": {},
     "output_type": "display_data"
    }
   ],
   "source": [
    "model <- aov(NatFrEst ~ RAgeCat, data = bsa2019)\n",
    "etaSquared(model)"
   ]
  },
  {
   "cell_type": "markdown",
   "id": "applicable-inclusion",
   "metadata": {},
   "source": [
    "The extremely low value for the *Eta squared* coefficient implies that there is a non-existent correlation between age and estimates of welfare fraud. This makes sense, as the variation in estimates across age groups is very small and really only noticeable when we compare the youngest and oldest age groups."
   ]
  },
  {
   "cell_type": "markdown",
   "id": "written-writing",
   "metadata": {},
   "source": [
    "### Numeric vs Numeric"
   ]
  },
  {
   "cell_type": "markdown",
   "id": "contrary-chinese",
   "metadata": {},
   "source": [
    "Finally, we consider correlations between two numeric variables."
   ]
  },
  {
   "cell_type": "markdown",
   "id": "higher-abraham",
   "metadata": {},
   "source": [
    "#### Separate summaries"
   ]
  },
  {
   "cell_type": "markdown",
   "id": "auburn-horizontal",
   "metadata": {},
   "source": [
    "We are interested in whether a respondent's attitude to welfare (`welfare2`) is correlated with their estimate of how many welfare claimants are engaging in fraud (`NatFrEst`)."
   ]
  },
  {
   "cell_type": "code",
   "execution_count": 49,
   "id": "removed-necessity",
   "metadata": {},
   "outputs": [],
   "source": [
    "bsa2019$welfare2[bsa2019$welfare2 > 5 | bsa2019$welfare2 < 1] <- NA"
   ]
  },
  {
   "cell_type": "code",
   "execution_count": 50,
   "id": "diagnostic-discretion",
   "metadata": {},
   "outputs": [
    {
     "data": {
      "text/plain": [
       "   Min. 1st Qu.  Median    Mean 3rd Qu.    Max.    NA's \n",
       "  1.000   2.308   2.750   2.731   3.125   5.000     642 "
      ]
     },
     "metadata": {},
     "output_type": "display_data"
    }
   ],
   "source": [
    "summary(bsa2019$welfare2)"
   ]
  },
  {
   "cell_type": "code",
   "execution_count": 51,
   "id": "protective-married",
   "metadata": {},
   "outputs": [
    {
     "data": {
      "text/plain": [
       "   Min. 1st Qu.  Median    Mean 3rd Qu.    Max.    NA's \n",
       "    0.0    10.0    30.0    35.8    50.0   100.0     246 "
      ]
     },
     "metadata": {},
     "output_type": "display_data"
    }
   ],
   "source": [
    "summary(bsa2019$NatFrEst)"
   ]
  },
  {
   "cell_type": "markdown",
   "id": "judicial-hampton",
   "metadata": {},
   "source": [
    "#### Joint distribution"
   ]
  },
  {
   "cell_type": "markdown",
   "id": "advised-custom",
   "metadata": {},
   "source": [
    "It is difficult to use tables to examine the distributions of numeric variables: there are often too many values to display. For example, here is a frequency table of `NatFrEst`, showing how many times each value occurs:"
   ]
  },
  {
   "cell_type": "code",
   "execution_count": 53,
   "id": "confused-income",
   "metadata": {},
   "outputs": [
    {
     "data": {
      "text/plain": [
       "   0   1   2   3   4   5   6   7   8   9  10  12  13  15  18  19  20  23  25  27  30  32  33  35  38  40  42  43  45  46  47  48  49  50  51  55  56  57  59  60  63  65  66  68  69  70  75  78  79  80  82  85  86  88  90  93  95  98  99 100\n",
       "                                                                                                                                                                                                                                                \n",
       "   8  68  82  43  25 192   3  14  10   1 354   7   1  90   1   1 286   1 190   3 194   2  19  45   1 188   1   3  23   2   1   2   1 436   2  20   1   2   1 160   1  29   2   2   2 107  77   2   1 126   2  18   1   2  58   1  10   4  19  30"
      ]
     },
     "metadata": {},
     "output_type": "display_data"
    }
   ],
   "source": [
    "ftable(bsa2019$NatFrEst)"
   ]
  },
  {
   "cell_type": "markdown",
   "id": "desirable-efficiency",
   "metadata": {},
   "source": [
    "And that's just one variable. A better way of displaying the joint distribution of two numeric variables is to use a **scatterplot**:"
   ]
  },
  {
   "cell_type": "code",
   "execution_count": 54,
   "id": "special-class",
   "metadata": {},
   "outputs": [
    {
     "data": {
      "image/png": "[encoded data removed]",
      "text/plain": [
       "plot without title"
      ]
     },
     "metadata": {
      "image/png": {
       "height": 420,
       "width": 420
      }
     },
     "output_type": "display_data"
    }
   ],
   "source": [
    "plot(bsa2019$welfare2, bsa2019$NatFrEst) # X variable (axis) is listed first, Y variable (axis) second"
   ]
  },
  {
   "cell_type": "markdown",
   "id": "capable-wholesale",
   "metadata": {},
   "source": [
    "If I were to make a tentative interpretation, it would be that as somebody's attitude to welfare becomes more negative (that is, `welfare2` variable increases towards 5) their estimate of welfare fraud tends to be slightly higher. However it might be easier to interpret an appropriate measure of association."
   ]
  },
  {
   "cell_type": "markdown",
   "id": "hispanic-cross",
   "metadata": {},
   "source": [
    "#### Measure of association"
   ]
  },
  {
   "cell_type": "markdown",
   "id": "raised-twist",
   "metadata": {},
   "source": [
    "We will use the following measure of association:\n",
    "* *Pearson's correlation coefficient (r)*\n",
    "\n",
    "Similar to other measures of association, it tells us the strength and direction of the association between two variables. The coefficient ranges between -1 and 1, with negative values representing negative associations, and positive values positive associations. Values closer to -1 or 1 indicate stronger associations than those closer to 0."
   ]
  },
  {
   "cell_type": "code",
   "execution_count": 59,
   "id": "impressive-bridal",
   "metadata": {},
   "outputs": [
    {
     "data": {
      "text/html": [
       "0.4"
      ],
      "text/latex": [
       "0.4"
      ],
      "text/markdown": [
       "0.4"
      ],
      "text/plain": [
       "[1] 0.4"
      ]
     },
     "metadata": {},
     "output_type": "display_data"
    }
   ],
   "source": [
    "round(cor(bsa2019$welfare2, bsa2019$NatFrEst, use = \"complete.obs\"), 2)"
   ]
  },
  {
   "cell_type": "markdown",
   "id": "buried-guitar",
   "metadata": {},
   "source": [
    "Let's interpret the correlation coefficient:\n",
    "* The number is reasonably far from 0, therefore there is a moderate-to-strong correlation between these two variables.\n",
    "* The number is greater than 0, therefore there is a positive relationship between these two variables - as the value of one variable increases, the value of the other variable also tends to increase."
   ]
  },
  {
   "cell_type": "markdown",
   "id": "editorial-poetry",
   "metadata": {},
   "source": [
    "## Conclusion"
   ]
  },
  {
   "cell_type": "markdown",
   "id": "happy-starter",
   "metadata": {},
   "source": [
    "In this lesson we encountered a range of techniques for summarising more than one variable at a time, in particular focusing on whether two variables are related.\n",
    "\n",
    "In the next lesson we look at how we can produce statistics that help us make claims about the *generalisability* of our analyses."
   ]
  },
  {
   "cell_type": "markdown",
   "id": "dominican-canal",
   "metadata": {},
   "source": [
    "## Solutions to tasks"
   ]
  },
  {
   "cell_type": "markdown",
   "id": "collaborative-rogers",
   "metadata": {},
   "source": [
    "### Display summary tables of the minimum and maximum values of `NatFrEst`."
   ]
  },
  {
   "cell_type": "code",
   "execution_count": 61,
   "id": "friendly-pricing",
   "metadata": {},
   "outputs": [
    {
     "data": {
      "text/html": [
       "<table class=\"dataframe\">\n",
       "<caption>A data.frame: 7 × 2</caption>\n",
       "<thead>\n",
       "\t<tr><th scope=col>RAgeCat</th><th scope=col>NatFrEst</th></tr>\n",
       "\t<tr><th scope=col>&lt;fct&gt;</th><th scope=col>&lt;int&gt;</th></tr>\n",
       "</thead>\n",
       "<tbody>\n",
       "\t<tr><td>18-24</td><td>0</td></tr>\n",
       "\t<tr><td>25-34</td><td>0</td></tr>\n",
       "\t<tr><td>35-44</td><td>0</td></tr>\n",
       "\t<tr><td>45-54</td><td>1</td></tr>\n",
       "\t<tr><td>55-59</td><td>1</td></tr>\n",
       "\t<tr><td>60-64</td><td>0</td></tr>\n",
       "\t<tr><td>65+  </td><td>1</td></tr>\n",
       "</tbody>\n",
       "</table>\n"
      ],
      "text/latex": [
       "A data.frame: 7 × 2\n",
       "\\begin{tabular}{ll}\n",
       " RAgeCat & NatFrEst\\\\\n",
       " <fct> & <int>\\\\\n",
       "\\hline\n",
       "\t 18-24 & 0\\\\\n",
       "\t 25-34 & 0\\\\\n",
       "\t 35-44 & 0\\\\\n",
       "\t 45-54 & 1\\\\\n",
       "\t 55-59 & 1\\\\\n",
       "\t 60-64 & 0\\\\\n",
       "\t 65+   & 1\\\\\n",
       "\\end{tabular}\n"
      ],
      "text/markdown": [
       "\n",
       "A data.frame: 7 × 2\n",
       "\n",
       "| RAgeCat &lt;fct&gt; | NatFrEst &lt;int&gt; |\n",
       "|---|---|\n",
       "| 18-24 | 0 |\n",
       "| 25-34 | 0 |\n",
       "| 35-44 | 0 |\n",
       "| 45-54 | 1 |\n",
       "| 55-59 | 1 |\n",
       "| 60-64 | 0 |\n",
       "| 65+   | 1 |\n",
       "\n"
      ],
      "text/plain": [
       "  RAgeCat NatFrEst\n",
       "1 18-24   0       \n",
       "2 25-34   0       \n",
       "3 35-44   0       \n",
       "4 45-54   1       \n",
       "5 55-59   1       \n",
       "6 60-64   0       \n",
       "7 65+     1       "
      ]
     },
     "metadata": {},
     "output_type": "display_data"
    }
   ],
   "source": [
    "aggregate(NatFrEst ~ RAgeCat, data = bsa2019, min)"
   ]
  },
  {
   "cell_type": "code",
   "execution_count": 62,
   "id": "brazilian-pacific",
   "metadata": {},
   "outputs": [
    {
     "data": {
      "text/html": [
       "<table class=\"dataframe\">\n",
       "<caption>A data.frame: 7 × 2</caption>\n",
       "<thead>\n",
       "\t<tr><th scope=col>RAgeCat</th><th scope=col>NatFrEst</th></tr>\n",
       "\t<tr><th scope=col>&lt;fct&gt;</th><th scope=col>&lt;int&gt;</th></tr>\n",
       "</thead>\n",
       "<tbody>\n",
       "\t<tr><td>18-24</td><td>100</td></tr>\n",
       "\t<tr><td>25-34</td><td>100</td></tr>\n",
       "\t<tr><td>35-44</td><td>100</td></tr>\n",
       "\t<tr><td>45-54</td><td>100</td></tr>\n",
       "\t<tr><td>55-59</td><td>100</td></tr>\n",
       "\t<tr><td>60-64</td><td>100</td></tr>\n",
       "\t<tr><td>65+  </td><td>100</td></tr>\n",
       "</tbody>\n",
       "</table>\n"
      ],
      "text/latex": [
       "A data.frame: 7 × 2\n",
       "\\begin{tabular}{ll}\n",
       " RAgeCat & NatFrEst\\\\\n",
       " <fct> & <int>\\\\\n",
       "\\hline\n",
       "\t 18-24 & 100\\\\\n",
       "\t 25-34 & 100\\\\\n",
       "\t 35-44 & 100\\\\\n",
       "\t 45-54 & 100\\\\\n",
       "\t 55-59 & 100\\\\\n",
       "\t 60-64 & 100\\\\\n",
       "\t 65+   & 100\\\\\n",
       "\\end{tabular}\n"
      ],
      "text/markdown": [
       "\n",
       "A data.frame: 7 × 2\n",
       "\n",
       "| RAgeCat &lt;fct&gt; | NatFrEst &lt;int&gt; |\n",
       "|---|---|\n",
       "| 18-24 | 100 |\n",
       "| 25-34 | 100 |\n",
       "| 35-44 | 100 |\n",
       "| 45-54 | 100 |\n",
       "| 55-59 | 100 |\n",
       "| 60-64 | 100 |\n",
       "| 65+   | 100 |\n",
       "\n"
      ],
      "text/plain": [
       "  RAgeCat NatFrEst\n",
       "1 18-24   100     \n",
       "2 25-34   100     \n",
       "3 35-44   100     \n",
       "4 45-54   100     \n",
       "5 55-59   100     \n",
       "6 60-64   100     \n",
       "7 65+     100     "
      ]
     },
     "metadata": {},
     "output_type": "display_data"
    }
   ],
   "source": [
    "aggregate(NatFrEst ~ RAgeCat, data = bsa2019, max)"
   ]
  }
 ],
 "metadata": {
  "kernelspec": {
   "display_name": "R",
   "language": "R",
   "name": "ir"
  },
  "language_info": {
   "codemirror_mode": "r",
   "file_extension": ".r",
   "mimetype": "text/x-r-source",
   "name": "R",
   "pygments_lexer": "r",
   "version": "4.1.1"
  }
 },
 "nbformat": 4,
 "nbformat_minor": 5
}
