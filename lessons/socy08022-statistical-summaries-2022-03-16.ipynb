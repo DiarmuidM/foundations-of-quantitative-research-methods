{
 "cells": [
  {
   "cell_type": "markdown",
   "id": "otherwise-cache",
   "metadata": {},
   "source": [
    "<p align=\"right\"><i>Foundations of Quantitative Research Methods - 2021/22 academic session</i></p>"
   ]
  },
  {
   "cell_type": "markdown",
   "id": "dynamic-conjunction",
   "metadata": {},
   "source": [
    "# Statistical Summaries"
   ]
  },
  {
   "cell_type": "markdown",
   "id": "exclusive-methodology",
   "metadata": {},
   "source": [
    "Welcome to the second part of the module *Foundations of Quantitative Research Methods*. We are going to focus on the core ways we can analyse and interpret quantitative data. We are going to use a real, large-scale social survey called the **British Social Attitudes Survey, 2019**. In particulare we're going to focus on a set of survey questions relating to poverty and welfare. "
   ]
  },
  {
   "cell_type": "markdown",
   "id": "scenic-silly",
   "metadata": {},
   "source": [
    "### Aims\n",
    "\n",
    "This lesson - **Statistical Summaries** - has two aims:\n",
    "1. Demonstrate how to analyse categorical and numeric variables one at a time.\n",
    "2. Cultivate your computational skills through the use of the statistical programming langauge *R*. For example, in this notebook there are a number of opportunities for you to amend or write R syntax (code)."
   ]
  },
  {
   "cell_type": "markdown",
   "id": "judicial-prediction",
   "metadata": {},
   "source": [
    "### Lesson details\n",
    "\n",
    "* **Level**: Introductory, for individuals with no prior knowledge or experience of quantitative data analysis.\n",
    "* **Duration**: 45-60 minutes.\n",
    "* **Pre-requisites**: None.\n",
    "* **Programming language**: R.\n",
    "* **Learning outcomes**:\n",
    "\t1. Understand how to use R for conducting data analysis.\n",
    "\t2. Understand how to select and apply common data analysis techniques for categorical and numeric variables."
   ]
  },
  {
   "cell_type": "markdown",
   "id": "terminal-agenda",
   "metadata": {},
   "source": [
    "## Guide to using this resource\n",
    "\n",
    "This learning resource was built using <a href=\"https://jupyter.org/\" target=_blank>Jupyter Notebook</a>, an open-source software application that allows you to mix code, results and narrative in a single document. As <a href=\"https://jupyter4edu.github.io/jupyter-edu-book/\" target=_blank>Barba et al. (2019)</a> espouse:\n",
    "> In a world where every subject matter can have a data-supported treatment, where computational devices are omnipresent and pervasive, the union of natural language and computation creates compelling communication and learning opportunities.\n",
    "\n",
    "If you are familiar with Jupyter notebooks then skip ahead to the main content (*Analysing data - a refresher*). Otherwise, the following is a quick guide to navigating and interacting with the notebook."
   ]
  },
  {
   "cell_type": "markdown",
   "id": "interested-radar",
   "metadata": {},
   "source": [
    "### Interaction\n",
    "\n",
    "**You only need to execute the code that is contained in sections which are marked by `In []`.**\n",
    "\n",
    "To execute a cell, click or double-click the cell and press the `Run` button on the top toolbar (you can also use the keyboard shortcut `Shift + Enter`).\n",
    "\n",
    "Try it for yourself:"
   ]
  },
  {
   "cell_type": "code",
   "execution_count": null,
   "id": "dominican-hardware",
   "metadata": {},
   "outputs": [],
   "source": [
    "name <- readline(prompt=\"Enter name: \")\n",
    "print(paste(\"Hi\", name, \", enjoy learning more about R and exploring data!\"))"
   ]
  },
  {
   "cell_type": "markdown",
   "id": "through-storm",
   "metadata": {},
   "source": [
    "Notebooks are sequential, meaning code should be executed in order (top to bottom). For example, the following code won't work:"
   ]
  },
  {
   "cell_type": "code",
   "execution_count": null,
   "id": "outstanding-bulgaria",
   "metadata": {},
   "outputs": [],
   "source": [
    "x * 5"
   ]
  },
  {
   "cell_type": "markdown",
   "id": "handmade-madagascar",
   "metadata": {},
   "source": [
    "As the error message suggests, there is no object (variable) called `x`, therefore we cannot do any calculations with it. \n",
    "\n",
    "Let's try a sequential approach:"
   ]
  },
  {
   "cell_type": "code",
   "execution_count": null,
   "id": "addressed-assumption",
   "metadata": {},
   "outputs": [],
   "source": [
    "x <- 10 # create an object called 'x' and give it the value '10'"
   ]
  },
  {
   "cell_type": "code",
   "execution_count": null,
   "id": "crucial-implement",
   "metadata": {},
   "outputs": [],
   "source": [
    "x * 5 # multiply 'x' by 5"
   ]
  },
  {
   "cell_type": "markdown",
   "id": "covered-round",
   "metadata": {},
   "source": [
    "### Learn more\n",
    "\n",
    "Jupyter notebooks provide rich, flexible features for conducting and documenting your data analysis workflow. To learn more about additional notebook features, we recommend working through some of the <a href=\"https://github.com/darribas/gds19/blob/master/content/labs/lab_00.ipynb\" target=_blank>materials</a> provided by Dani Arribas-Bel at the University of Liverpool. "
   ]
  },
  {
   "cell_type": "markdown",
   "id": "floppy-escape",
   "metadata": {},
   "source": [
    "### Learner input\n",
    "\n",
    "Throughout the lessons there times when you need to do the following activities:\n",
    "* **TASK:** A coding task for you to complete (e.g. analyse different variables).\n",
    "* **QUESTION:** A question regarding your interpretation of some code or a technique (e.g. what is the piece of code doing?).\n",
    "* **EXERCISE:** A data analysis challenge for you to complete."
   ]
  },
  {
   "cell_type": "markdown",
   "id": "democratic-office",
   "metadata": {},
   "source": [
    "## Analysing data - a refresher"
   ]
  },
  {
   "cell_type": "markdown",
   "id": "respected-comedy",
   "metadata": {},
   "source": [
    "Once we have collected and explored our data, we can turn to the interesting part: analysis. Our ultimate aim is to answer the research question accurately: to do so we need to produce summaries of our key variables. In our case we need to analyse variables relating to attitudes to poverty and welfare in Britain.\n",
    "\n",
    "How do we know which summaries to choose? We need to look at the **level of measurement** of each variable: are we dealing with categorical (e.g., marital status) or numeric (e.g., income) variables? We covered level of measurement earlier in the module but here is a quick refresher: "
   ]
  },
  {
   "cell_type": "markdown",
   "id": "enclosed-pulse",
   "metadata": {},
   "source": [
    "![Differentiation of numeric and categorical variables](./images/lvl_msr_diagr.png)"
   ]
  },
  {
   "cell_type": "markdown",
   "id": "modern-nursery",
   "metadata": {},
   "source": [
    "Source: [https://maczokni.github.io/MSCD_labs/week2.html#univariate-analysis](https://maczokni.github.io/MSCD_labs/week2.html#univariate-analysis)"
   ]
  },
  {
   "cell_type": "markdown",
   "id": "synthetic-amino",
   "metadata": {},
   "source": [
    "**Numeric variables** measure the amount or magnitude of some characteristic | attribute | outcome. For example, how much income a person receives from their part-time job; how many people are classed as homeless in Scotland in a given year.\n",
    "\n",
    "**Categorical variables** measure the presence of some characteristic | attribute | outcome. For example, a person's country of birth; marital status. These are examples of *nominal* categorical variables. However there is another type of categorical variable that also captures the rank or ordering of the categories. For example, a student's degree classification; social class; agreement with a statement (\"strongly agree\", \"agree\", \"disagree\"). These are examples of *ordinal* categorical variables."
   ]
  },
  {
   "cell_type": "markdown",
   "id": "classical-hypothetical",
   "metadata": {},
   "source": [
    "The analytical techniques we use depend on whether we are dealing with a numeric or categorical variable. However the aims of our analysis are similar:\n",
    "1. We want to summarise the **central tendency** of the values of a variable\n",
    "2. We want to summarise the **distribution** of the values of a variable"
   ]
  },
  {
   "cell_type": "markdown",
   "id": "actual-grill",
   "metadata": {},
   "source": [
    "### Terminology\n",
    "\n",
    "Let's refresh our memory of key terms when conducting quantitative data analysis:\n",
    "* **Case** - the entity we are analysing e.g., people, countries, companies, animals, events.\n",
    "* **Variable** - a characteristic that can vary in value among cases in a sample or population. Usually represented as a column in a dataset.\n",
    "* **Observation** - a set of measurements of the variables for a case. Usually represented as a row in a dataset.\n",
    "* **Respondent** - the case who responds to the survey - for obvious reasons, almost always a person.\n",
    "\n",
    "These terms will become clearer as we conduct our analyses."
   ]
  },
  {
   "cell_type": "markdown",
   "id": "endless-entertainment",
   "metadata": {},
   "source": [
    "### Central tendency\n",
    "\n",
    "Central tendency conveys what the *typical observation* looks like for a variable (Fogarty, 2019). There are a number of different measure of central tendency but the three most recognisable are:\n",
    "* **Mode** - the most common value of a variable.\n",
    "* **Median** - the middle value in a variable's distribution, where an equal number of observations lie above and below this value.\n",
    "* **Mean** - the average value of a variable. \n",
    "\n",
    "We'll clarify what is meant by each of these measures when we encounter some examples in the *British Social Attitudes* data."
   ]
  },
  {
   "cell_type": "markdown",
   "id": "forbidden-hobby",
   "metadata": {},
   "source": [
    "### Distribution\n",
    "\n",
    "The pattern of variation in the values of a variable is called a *distribution*. Observing the full distribution of values is important but there are also a number of summary statistics that describe interesting features of a distribution. These are called **measures of dispersion** and some of the most commonly encountered are:\n",
    "* **Minimum** - the lowest value observed\n",
    "* **Maximum** - the highest value observed\n",
    "* **Range** - the difference between the minimum and maximum\n",
    "* **Standard deviation** - the average distance a value is from the mean\n",
    "\n",
    "Many of these really only apply to numeric variables."
   ]
  },
  {
   "cell_type": "markdown",
   "id": "rural-progress",
   "metadata": {},
   "source": [
    "## Doing data analysis"
   ]
  },
  {
   "cell_type": "markdown",
   "id": "caroline-province",
   "metadata": {},
   "source": [
    "In this lesson we focus on analysing *one* variable at a time. We may be interested in many variables in our study but we produce summaries of them separately, rather than trying to analyse them jointly (like in a correlation analysis).\n",
    "\n",
    "One variable, sounds simple right? Well yes, as long as:\n",
    "* You have variables that measure the concept you are interested in.\n",
    "* You recognise the data type (level of measurement) of each variable."
   ]
  },
  {
   "cell_type": "markdown",
   "id": "framed-privacy",
   "metadata": {},
   "source": [
    "### Importing data"
   ]
  },
  {
   "cell_type": "markdown",
   "id": "stone-qatar",
   "metadata": {},
   "source": [
    "The first step is to import the *British Social Attidues* data for analysis."
   ]
  },
  {
   "cell_type": "code",
   "execution_count": null,
   "id": "agreed-future",
   "metadata": {},
   "outputs": [],
   "source": [
    "bsa2019 <- read.table(\"./data/bsa2019_poverty_open.tab\", header=TRUE, na=\"NA\", sep=\"\\t\")\n",
    "head(bsa2019) # view the first six observations"
   ]
  },
  {
   "cell_type": "markdown",
   "id": "based-thousand",
   "metadata": {},
   "source": [
    "Hmm, not easy to interpret what these variables mean. Let's get a list of variable names and see which ones relate to poverty and welfare."
   ]
  },
  {
   "cell_type": "code",
   "execution_count": null,
   "id": "greek-result",
   "metadata": {},
   "outputs": [],
   "source": [
    "names(bsa2019)"
   ]
  },
  {
   "cell_type": "markdown",
   "id": "legendary-tactics",
   "metadata": {},
   "source": [
    "After looking up the [codebook](./codebook/8850_bsa_open_poverty_2019_codebook.pdf), there are two variables definitely of interest:\n",
    "* `NatFrEst` is a measure of how many welfare claimants out of 100 a respondent thinks provides fradulent information: *Out of every 100 people receiving benefits in Britain, how many have broken the law by giving false information to support their claim?* This is a numeric variable, specifically a count variable.\n",
    "* `incdiffs` is a measure of how strongly respondent's agree or disagree about the level of income inequality in Britain: *Differences in income in GB are too large?* The responses are a set of categories ranging from \"Strongly agree\" to \"Strongly disagree\", therefore this is a categorical variable, specifically an ordinal variable.\n",
    "\n",
    "Let's focus on summarising the values of each of these variables."
   ]
  },
  {
   "cell_type": "markdown",
   "id": "finite-edward",
   "metadata": {},
   "source": [
    "### Labelling values"
   ]
  },
  {
   "cell_type": "markdown",
   "id": "treated-klein",
   "metadata": {},
   "source": [
    "You may have noticed that it is difficult / impossible to know what the values of a variable mean without the [codebook](./codebook/8850_bsa_open_poverty_2019_codebook.pdf). This isn't much of a problem with numeric variables, but is when dealing with categorical variables.\n",
    "\n",
    "We can make things easier for ourselves by attaching labels to specific values. \n",
    "\n",
    "Consider the income inequality variable (`incdiffs`):"
   ]
  },
  {
   "cell_type": "code",
   "execution_count": null,
   "id": "chubby-laundry",
   "metadata": {},
   "outputs": [],
   "source": [
    "table(bsa2019$incdiffs)"
   ]
  },
  {
   "cell_type": "markdown",
   "id": "functioning-antenna",
   "metadata": {},
   "source": [
    "It is difficult to infer what categories the values represent. For example, does the value \"1\" represent \"Strongly agree\"? What could \"-1\" represent? Instead of repeatedly looking up the codebook, let's use *R* to attach labels to the values:"
   ]
  },
  {
   "cell_type": "code",
   "execution_count": null,
   "id": "instant-captain",
   "metadata": {},
   "outputs": [],
   "source": [
    "bsa2019$incdiffs <- factor(bsa2019$incdiffs, levels = c(1,2,3,4,5), labels = c(\"Strongly agree\", \"Agree\", \n",
    "                                                                               \"Neither agree nor disagree\", \"Disagree\", \"Strongly disagree\"))"
   ]
  },
  {
   "cell_type": "markdown",
   "id": "latter-savings",
   "metadata": {},
   "source": [
    "Now we can see the labels when we view the values of the variable:"
   ]
  },
  {
   "cell_type": "code",
   "execution_count": null,
   "id": "interior-price",
   "metadata": {},
   "outputs": [],
   "source": [
    "table(bsa2019$incdiffs)"
   ]
  },
  {
   "cell_type": "markdown",
   "id": "fleet-faculty",
   "metadata": {},
   "source": [
    "For the purposes of analysis we have ignored values of \"-1\", \"8\" and \"9\" as these represent responses we are not interested in (e.g., people who skipped this question, responded with \"don't know\")."
   ]
  },
  {
   "cell_type": "markdown",
   "id": "thermal-valve",
   "metadata": {},
   "source": [
    "### Summarising categorical variables"
   ]
  },
  {
   "cell_type": "markdown",
   "id": "faced-dietary",
   "metadata": {},
   "source": [
    "One of the core ways of analysing a categorical variable is to examine the frequency with which each category occurs. That is, we look at the variable's *frequency distribution*. Recall that a *distribution* is a summary of the variation in a variable: that is, observations have different values for a variable and these values form a pattern."
   ]
  },
  {
   "cell_type": "code",
   "execution_count": null,
   "id": "intelligent-supplement",
   "metadata": {},
   "outputs": [],
   "source": [
    "table(bsa2019$incdiffs)"
   ]
  },
  {
   "cell_type": "markdown",
   "id": "standard-turkish",
   "metadata": {},
   "source": [
    "The `table()` command is pretty basic but does give us some useful information. For instance we learn that over 1,300 respondents at the very least agree that income inequality is too high in Britain."
   ]
  },
  {
   "cell_type": "markdown",
   "id": "suspended-pollution",
   "metadata": {},
   "source": [
    "**QUESTION:** What is the mode for this variable?"
   ]
  },
  {
   "cell_type": "markdown",
   "id": "otherwise-domestic",
   "metadata": {},
   "source": [
    "It would be useful to know the percentage of observations in each category. *R* doesn't make this as easy as we would like but it can be achieved like so:"
   ]
  },
  {
   "cell_type": "code",
   "execution_count": null,
   "id": "alone-transfer",
   "metadata": {},
   "outputs": [],
   "source": [
    "round(prop.table(table(bsa2019$incdiffs)) * 100, 0)"
   ]
  },
  {
   "cell_type": "markdown",
   "id": "pregnant-wells",
   "metadata": {},
   "source": [
    "Now we can see that a strong majority (81%) of respondents think income inequality is too high in Britain."
   ]
  },
  {
   "cell_type": "markdown",
   "id": "rolled-acoustic",
   "metadata": {},
   "source": [
    "Finally, summarising the distribution of a categorical variable is often best done through a graph or visualisation. A common graph type for categorical variables is a **bar chart**."
   ]
  },
  {
   "cell_type": "code",
   "execution_count": null,
   "id": "senior-making",
   "metadata": {},
   "outputs": [],
   "source": [
    "barplot(table(bsa2019$incdiffs))"
   ]
  },
  {
   "cell_type": "markdown",
   "id": "humanitarian-leisure",
   "metadata": {},
   "source": [
    "We can clearly see the pattern in the distribution using a bar chart: respondents are more likely to agree or strongly agree.\n",
    "\n",
    "(We won't focus on improving the visualisation in this module - you'll have to take *Data Analysis for the Social Sciences* in Year 9 if you want to learn more...)"
   ]
  },
  {
   "cell_type": "markdown",
   "id": "sexual-gates",
   "metadata": {},
   "source": [
    "**TASK:** Use frequency tables and bar charts to summarise the `RSex` variable. Look up the codebook and label the variable's values. (The answer to this task is at the end of the notebook)"
   ]
  },
  {
   "cell_type": "code",
   "execution_count": null,
   "id": "wrapped-final",
   "metadata": {},
   "outputs": [],
   "source": [
    "# INSERT CODE HERE"
   ]
  },
  {
   "cell_type": "markdown",
   "id": "united-kidney",
   "metadata": {},
   "source": [
    "### Summarising numeric variables"
   ]
  },
  {
   "cell_type": "markdown",
   "id": "broken-coupon",
   "metadata": {},
   "source": [
    "One of the core ways of analysing a numeric variable is to calculate measures of central tendency, in particular the **mean** and **median**:"
   ]
  },
  {
   "cell_type": "code",
   "execution_count": null,
   "id": "breathing-liberal",
   "metadata": {},
   "outputs": [],
   "source": [
    "mean(bsa2019$NatFrEst)"
   ]
  },
  {
   "cell_type": "code",
   "execution_count": null,
   "id": "gentle-custody",
   "metadata": {},
   "outputs": [],
   "source": [
    "median(bsa2019$NatFrEst)"
   ]
  },
  {
   "cell_type": "markdown",
   "id": "spare-closing",
   "metadata": {},
   "source": [
    "Hmmm, the mean doesn't look right...how can it take this value when the question specifically asked respondents to pick a number between 0 and 100. \n",
    "\n",
    "The codebook has the answer: respondents who said \"don't know\" or didn't answer are given the values \"998\" and \"999\". Therefore these values are skewing the mean towards them. Let's tell *R* to ignore these values when analysing this variable:"
   ]
  },
  {
   "cell_type": "code",
   "execution_count": null,
   "id": "marine-bowling",
   "metadata": {},
   "outputs": [],
   "source": [
    "bsa2019$NatFrEst[bsa2019$NatFrEst > 100] <- NA # set \"998\" and \"999\" as missing values"
   ]
  },
  {
   "cell_type": "code",
   "execution_count": null,
   "id": "global-square",
   "metadata": {},
   "outputs": [],
   "source": [
    "mean(bsa2019$NatFrEst, na.rm = TRUE) # need to tell R to ignore missing values"
   ]
  },
  {
   "cell_type": "code",
   "execution_count": null,
   "id": "normal-organization",
   "metadata": {},
   "outputs": [],
   "source": [
    "median(bsa2019$NatFrEst, na.rm = TRUE)"
   ]
  },
  {
   "cell_type": "markdown",
   "id": "voluntary-motor",
   "metadata": {},
   "source": [
    "That's better. \n",
    "\n",
    "Here we see the mean and median values of the welfare fraud estimate variable. The mean represents the average value of this variable and is calculated by adding up all the values and dividing by the number of observations for this variable.\n",
    "\n",
    "The median represents the middle value: 50% of respondents estimated a number lower than this value, 50% estimated a number higher than this value. "
   ]
  },
  {
   "cell_type": "markdown",
   "id": "searching-sharp",
   "metadata": {},
   "source": [
    "These measures are useful for analysing typical or representative values of variable. However it is also important we consider the distribution of values, so we can assess just *how* useful the mean and median are.\n",
    "\n",
    "First we can view a summary of the **range** of values of this variable:"
   ]
  },
  {
   "cell_type": "code",
   "execution_count": null,
   "id": "increasing-array",
   "metadata": {},
   "outputs": [],
   "source": [
    "summary(bsa2019$NatFrEst)"
   ]
  },
  {
   "cell_type": "markdown",
   "id": "informal-fundamentals",
   "metadata": {},
   "source": [
    "A common graph type for numeric variables is a **histogram**."
   ]
  },
  {
   "cell_type": "code",
   "execution_count": null,
   "id": "forward-empire",
   "metadata": {},
   "outputs": [],
   "source": [
    "hist(bsa2019$NatFrEst, breaks = seq(0, 100, by=10)) # each bar represents a range of values (10)"
   ]
  },
  {
   "cell_type": "markdown",
   "id": "tropical-binary",
   "metadata": {},
   "source": [
    "We can clearly see the pattern in the distribution using a histogram: many respondents think there are 10 or fewer benefit claimants out of 100 who are engaging in fraud. However there a significant number of respondents who think welfare fraud is very common (notice the \"bump\" in the middle of the distribution). \n",
    "\n",
    "This type of distribution, where the values are bunched to the left, can be described as being **positively skewed**. That is, there are a small number of \"extreme\" or high values."
   ]
  },
  {
   "cell_type": "markdown",
   "id": "civilian-contamination",
   "metadata": {},
   "source": [
    "When we have a small range of values for a numeric variable, then a bar chart may also be appropriate:"
   ]
  },
  {
   "cell_type": "code",
   "execution_count": null,
   "id": "forward-electricity",
   "metadata": {},
   "outputs": [],
   "source": [
    "barplot(table(bsa2019$NatFrEst))"
   ]
  },
  {
   "cell_type": "markdown",
   "id": "healthy-florence",
   "metadata": {},
   "source": [
    "Now we can see the most common (mode) response was \"50\" i.e., half of benefit claimants are engaging in fraud to attain welfare."
   ]
  },
  {
   "cell_type": "markdown",
   "id": "material-congo",
   "metadata": {},
   "source": [
    "**TASK:** Use summary, mean, median and hist commands to summarise the `welfare2` variable. Look up the codebook to see if any values need to be set as missing. (The answer to this task is at the end of the notebook)"
   ]
  },
  {
   "cell_type": "code",
   "execution_count": null,
   "id": "tracked-fitting",
   "metadata": {},
   "outputs": [],
   "source": [
    "# INSERT CODE HERE"
   ]
  },
  {
   "cell_type": "markdown",
   "id": "editorial-poetry",
   "metadata": {},
   "source": [
    "## Conclusion"
   ]
  },
  {
   "cell_type": "markdown",
   "id": "happy-starter",
   "metadata": {},
   "source": [
    "In this lesson we encountered a range of techniques for summarising categorical and numeric variables one at a time.\n",
    "\n",
    "In the next lesson we focus on summarising the joint distribution of two or more variables, a technique known as *bivariate*, *multivariate* or *correlation* analysis."
   ]
  },
  {
   "cell_type": "markdown",
   "id": "dominican-canal",
   "metadata": {},
   "source": [
    "## Solutions to tasks"
   ]
  },
  {
   "cell_type": "markdown",
   "id": "collaborative-rogers",
   "metadata": {},
   "source": [
    "### Use frequency tables and bar charts to summarise the `RSex` variable. Look up the codebook and label the variable's values."
   ]
  },
  {
   "cell_type": "code",
   "execution_count": null,
   "id": "friendly-pricing",
   "metadata": {},
   "outputs": [],
   "source": [
    "table(bsa2019$RSex)"
   ]
  },
  {
   "cell_type": "code",
   "execution_count": null,
   "id": "brazilian-pacific",
   "metadata": {},
   "outputs": [],
   "source": [
    "bsa2019$RSex <- factor(bsa2019$RSex, levels = c(1,2), labels = c(\"Male\", \"Female\"))"
   ]
  },
  {
   "cell_type": "code",
   "execution_count": null,
   "id": "radical-fellowship",
   "metadata": {},
   "outputs": [],
   "source": [
    "table(bsa2019$RSex)"
   ]
  },
  {
   "cell_type": "code",
   "execution_count": null,
   "id": "planned-mapping",
   "metadata": {},
   "outputs": [],
   "source": [
    "round(prop.table(table(bsa2019$RSex)) * 100, 0)"
   ]
  },
  {
   "cell_type": "code",
   "execution_count": null,
   "id": "smart-metallic",
   "metadata": {},
   "outputs": [],
   "source": [
    "barplot(table(bsa2019$RSex))"
   ]
  },
  {
   "cell_type": "markdown",
   "id": "accessible-subscription",
   "metadata": {},
   "source": [
    "#### Interpretation"
   ]
  },
  {
   "cell_type": "markdown",
   "id": "suitable-julian",
   "metadata": {},
   "source": [
    "The `RSex` variable is a binary measure of a respondent's sex. There are two categories: Male and Female.\n",
    "\n",
    "We clearly see that more females than males completed the survey."
   ]
  },
  {
   "cell_type": "markdown",
   "id": "large-delicious",
   "metadata": {},
   "source": [
    "### Use summary, mean, median and hist commands to summarise the `welfare2` variable. Look up the codebook to see if any values need to be set as missing."
   ]
  },
  {
   "cell_type": "code",
   "execution_count": null,
   "id": "persistent-cement",
   "metadata": {},
   "outputs": [],
   "source": [
    "bsa2019$welfare2[bsa2019$welfare2 > 5 | bsa2019$welfare2 < 1] <- NA"
   ]
  },
  {
   "cell_type": "code",
   "execution_count": null,
   "id": "endless-attachment",
   "metadata": {},
   "outputs": [],
   "source": [
    "summary(bsa2019$welfare2)"
   ]
  },
  {
   "cell_type": "code",
   "execution_count": null,
   "id": "heavy-blood",
   "metadata": {},
   "outputs": [],
   "source": [
    "mean(bsa2019$welfare2, na.rm = TRUE)"
   ]
  },
  {
   "cell_type": "code",
   "execution_count": null,
   "id": "pointed-opinion",
   "metadata": {},
   "outputs": [],
   "source": [
    "median(bsa2019$welfare2, na.rm = TRUE)"
   ]
  },
  {
   "cell_type": "code",
   "execution_count": null,
   "id": "alien-masters",
   "metadata": {},
   "outputs": [],
   "source": [
    "hist(bsa2019$welfare2, breaks = seq(1, 5, by=1))"
   ]
  },
  {
   "cell_type": "markdown",
   "id": "elder-republican",
   "metadata": {},
   "source": [
    "#### Interpretation"
   ]
  },
  {
   "cell_type": "markdown",
   "id": "raising-barrel",
   "metadata": {},
   "source": [
    "The `welfare2` variable summarises a respondent's attitude to welfare. A value of \"1\" indicates somebody who feels positively about welfare in Britain, a value of \"5\" represents somebody with negative attitudes to welfare. See pages 21-22 of the original studie's User Guide for information on how this variable was created: http://doc.ukdataservice.ac.uk/doc/8450/mrdoc/pdf/8450_bsa_2017_user_guide_final.pdf\n",
    "\n",
    "We can see most people are in the middle, though with a noticeable lean towards more positive feelings to welfare."
   ]
  }
 ],
 "metadata": {
  "kernelspec": {
   "display_name": "R",
   "language": "R",
   "name": "ir"
  },
  "language_info": {
   "codemirror_mode": "r",
   "file_extension": ".r",
   "mimetype": "text/x-r-source",
   "name": "R",
   "pygments_lexer": "r",
   "version": "4.1.1"
  }
 },
 "nbformat": 4,
 "nbformat_minor": 5
}
